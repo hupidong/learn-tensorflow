{
 "cells": [
  {
   "cell_type": "code",
   "execution_count": 1,
   "metadata": {},
   "outputs": [],
   "source": [
    "import tensorflow as tf\n"
   ]
  },
  {
   "cell_type": "raw",
   "metadata": {},
   "source": [
    "# 以线性回归为例 "
   ]
  },
  {
   "cell_type": "code",
   "execution_count": 2,
   "metadata": {},
   "outputs": [],
   "source": [
    "# Global parameters\n",
    "DATA_FILE=\"../data/boston_housing.csv\"\n",
    "BATCH_SIZE=10\n",
    "NUM_FEATURES=14"
   ]
  },
  {
   "cell_type": "code",
   "execution_count": 3,
   "metadata": {},
   "outputs": [],
   "source": [
    "def data_generator(filename):\n",
    "    f_queue=tf.train.string_input_producer(filename)\n",
    "    # skip the first line\n",
    "    reader=tf.TextLineReader(skip_header_lines=1)\n",
    "    _,value=reader.read(f_queue)\n",
    "    \n",
    "    record_defaults=[[0.0] for _ in range(NUM_FEATURES)]\n",
    "    data=tf.decode_csv(value, record_defaults=record_defaults)\n",
    "    features=tf.stack(tf.gather_nd(data,[[5],[10],[12]]))\n",
    "    label=data[-1]\n",
    "    \n",
    "    min_after_dequeue=10*BATCH_SIZE\n",
    "    capacity=20*BATCH_SIZE\n",
    "    #shuffle\n",
    "    feature_batch, label_batch=tf.train.shuffle_batch([features,label],\n",
    "        batch_size=BATCH_SIZE, capacity=capacity,min_after_dequeue=min_after_dequeue)\n",
    "    return feature_batch, label_batch\n",
    "    "
   ]
  },
  {
   "cell_type": "code",
   "execution_count": 7,
   "metadata": {},
   "outputs": [],
   "source": [
    "def generate_data(feature_batch, label_batch):\n",
    "    with tf.Session() as sess:\n",
    "        coord=tf.train.Coordinator()\n",
    "        threads=tf.train.start_queue_runners(coord=coord)\n",
    "        for _ in range(5):\n",
    "            features, labels=sess.run([feature_batch, label_batch])\n",
    "            print(features,\"HI\")\n",
    "        coord.request_stop()\n",
    "        coord.join(threads)"
   ]
  },
  {
   "cell_type": "code",
   "execution_count": 8,
   "metadata": {},
   "outputs": [
    {
     "name": "stdout",
     "output_type": "stream",
     "text": [
      "WARNING:tensorflow:From <ipython-input-7-c7cbfe602a75>:4: start_queue_runners (from tensorflow.python.training.queue_runner_impl) is deprecated and will be removed in a future version.\n",
      "Instructions for updating:\n",
      "To construct input pipelines, use the `tf.data` module.\n",
      "[[ 6.115 16.     9.43 ]\n",
      " [ 6.096 21.    20.34 ]\n",
      " [ 5.813 21.    14.81 ]\n",
      " [ 6.009 15.    13.27 ]\n",
      " [ 6.137 20.    13.44 ]\n",
      " [ 6.004 15.    17.1  ]\n",
      " [ 6.096 21.    10.26 ]\n",
      " [ 6.417 19.     6.72 ]\n",
      " [ 6.245 19.     7.54 ]\n",
      " [ 6.03  17.    18.8  ]] HI\n",
      "[[ 5.949 21.     8.26 ]\n",
      " [ 5.927 19.     9.22 ]\n",
      " [ 6.762 19.     9.5  ]\n",
      " [ 5.787 16.    10.24 ]\n",
      " [ 6.092 17.    17.09 ]\n",
      " [ 6.142 21.    18.72 ]\n",
      " [ 5.713 21.    22.6  ]\n",
      " [ 6.015 18.    12.86 ]\n",
      " [ 5.95  21.    27.71 ]\n",
      " [ 5.885 18.     8.79 ]] HI\n",
      "[[ 5.99  21.    14.67 ]\n",
      " [ 6.012 15.    12.43 ]\n",
      " [ 6.176 17.    12.04 ]\n",
      " [ 6.405 17.     8.2  ]\n",
      " [ 6.211 18.     6.21 ]\n",
      " [ 5.813 21.    19.88 ]\n",
      " [ 6.595 18.     4.32 ]\n",
      " [ 5.693 21.    17.19 ]\n",
      " [ 6.169 17.     5.81 ]\n",
      " [ 5.963 16.    13.45 ]] HI\n",
      "[[ 6.195 20.    13.   ]\n",
      " [ 5.701 21.    18.35 ]\n",
      " [ 5.935 21.     6.58 ]\n",
      " [ 6.326 21.    12.26 ]\n",
      " [ 7.416 18.     6.19 ]\n",
      " [ 6.004 19.    14.27 ]\n",
      " [ 6.816 15.     3.95 ]\n",
      " [ 5.888 21.    14.8  ]\n",
      " [ 5.924 21.    16.3  ]\n",
      " [ 5.874 18.     9.1  ]] HI\n",
      "[[ 7.82  18.     3.57 ]\n",
      " [ 5.841 19.    11.41 ]\n",
      " [ 5.637 21.    18.34 ]\n",
      " [ 6.229 20.    15.55 ]\n",
      " [ 5.456 21.    11.69 ]\n",
      " [ 5.961 19.     9.88 ]\n",
      " [ 5.856 19.    25.41 ]\n",
      " [ 5.682 17.    10.21 ]\n",
      " [ 5.757 21.    17.31 ]\n",
      " [ 6.458 21.    12.6  ]] HI\n"
     ]
    }
   ],
   "source": [
    "if __name__ == \"__main__\":\n",
    "    feature_bath, label_batch=data_generator([DATA_FILE])\n",
    "    generate_data(feature_bath,label_batch)"
   ]
  },
  {
   "cell_type": "code",
   "execution_count": null,
   "metadata": {},
   "outputs": [],
   "source": []
  }
 ],
 "metadata": {
  "kernelspec": {
   "display_name": "Python 3",
   "language": "python",
   "name": "python3"
  },
  "language_info": {
   "codemirror_mode": {
    "name": "ipython",
    "version": 3
   },
   "file_extension": ".py",
   "mimetype": "text/x-python",
   "name": "python",
   "nbconvert_exporter": "python",
   "pygments_lexer": "ipython3",
   "version": "3.7.6"
  }
 },
 "nbformat": 4,
 "nbformat_minor": 4
}
