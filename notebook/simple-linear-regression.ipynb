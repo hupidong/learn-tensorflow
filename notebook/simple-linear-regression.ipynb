{
 "cells": [
  {
   "cell_type": "code",
   "execution_count": 1,
   "metadata": {},
   "outputs": [
    {
     "name": "stderr",
     "output_type": "stream",
     "text": [
      "D:\\Programs\\Anaconda3\\envs\\tf2.1\\lib\\importlib\\_bootstrap.py:219: RuntimeWarning: numpy.ufunc size changed, may indicate binary incompatibility. Expected 192 from C header, got 216 from PyObject\n",
      "  return f(*args, **kwds)\n",
      "D:\\Programs\\Anaconda3\\envs\\tf2.1\\lib\\importlib\\_bootstrap.py:219: RuntimeWarning: numpy.ufunc size changed, may indicate binary incompatibility. Expected 192 from C header, got 216 from PyObject\n",
      "  return f(*args, **kwds)\n"
     ]
    }
   ],
   "source": [
    "import tensorflow as tf\n",
    "import numpy as np\n",
    "import matplotlib.pyplot as plt"
   ]
  },
  {
   "cell_type": "code",
   "execution_count": 32,
   "metadata": {},
   "outputs": [],
   "source": [
    "def normalize(X,axis=0):\n",
    "    mean=np.mean(X,axis=axis,keepdims=True)\n",
    "    std=np.std(X,axis=axis,keepdims=True)\n",
    "    X=(X-mean)/std\n",
    "    return X"
   ]
  },
  {
   "cell_type": "code",
   "execution_count": 35,
   "metadata": {},
   "outputs": [],
   "source": [
    "# data\n",
    "boston=tf.contrib.learn.datasets.load_dataset('boston')\n",
    "X_train,Y_train=boston.data[:,5], boston.target\n",
    "#X_train=normalize(X_train)\n",
    "n_samples=len(X_train)"
   ]
  },
  {
   "cell_type": "code",
   "execution_count": 49,
   "metadata": {},
   "outputs": [],
   "source": [
    "#声明占位符\n",
    "X=tf.placeholder(tf.float32, name=\"X\")\n",
    "Y=tf.placeholder(tf.float32, name=\"Y\")"
   ]
  },
  {
   "cell_type": "code",
   "execution_count": 50,
   "metadata": {},
   "outputs": [],
   "source": [
    "# 创建权重变量和偏置变量\n",
    "w=tf.Variable(0.0, name=\"w\")\n",
    "b=tf.Variable(0.0, name=\"b\")"
   ]
  },
  {
   "cell_type": "code",
   "execution_count": 51,
   "metadata": {},
   "outputs": [],
   "source": [
    "# 定义模型\n",
    "Y_hat=X*w + b"
   ]
  },
  {
   "cell_type": "code",
   "execution_count": 52,
   "metadata": {},
   "outputs": [],
   "source": [
    "# 定义损失函数\n",
    "loss=tf.square(Y-Y_hat, name=\"loss\")"
   ]
  },
  {
   "cell_type": "code",
   "execution_count": 53,
   "metadata": {},
   "outputs": [],
   "source": [
    "# 选择优化器\n",
    "optimizer=tf.train.GradientDescentOptimizer(learning_rate=0.01).minimize(loss)"
   ]
  },
  {
   "cell_type": "code",
   "execution_count": 55,
   "metadata": {},
   "outputs": [
    {
     "name": "stdout",
     "output_type": "stream",
     "text": [
      "Epoch0: Loss 26.779895120142466\n",
      "Epoch1: Loss 25.532963559892984\n",
      "Epoch2: Loss 25.308105514786394\n",
      "Epoch3: Loss 25.10842958027482\n",
      "Epoch4: Loss 24.930981125067394\n",
      "Epoch5: Loss 24.773168119782166\n",
      "Epoch6: Loss 24.63269657542246\n",
      "Epoch7: Loss 24.507561973939524\n",
      "Epoch8: Loss 24.395995892890088\n",
      "Epoch9: Loss 24.296436210372303\n",
      "Epoch10: Loss 24.207509442804618\n",
      "Epoch11: Loss 24.12800798017121\n",
      "Epoch12: Loss 24.05685957382555\n",
      "Epoch13: Loss 23.993130210483717\n",
      "Epoch14: Loss 23.93598476036447\n",
      "Epoch15: Loss 23.88469580368127\n",
      "Epoch16: Loss 23.838609592460674\n",
      "Epoch17: Loss 23.79715412149717\n",
      "Epoch18: Loss 23.759826562716107\n",
      "Epoch19: Loss 23.72617975498383\n",
      "Epoch20: Loss 23.695819259177686\n",
      "Epoch21: Loss 23.668390857997256\n",
      "Epoch22: Loss 23.643586170807783\n",
      "Epoch23: Loss 23.621129276800527\n",
      "Epoch24: Loss 23.600774940486847\n",
      "Epoch25: Loss 23.5823057752245\n",
      "Epoch26: Loss 23.56553128231661\n",
      "Epoch27: Loss 23.550277626216015\n",
      "Epoch28: Loss 23.53639167287385\n",
      "Epoch29: Loss 23.52373552081982\n",
      "Epoch30: Loss 23.512190676023653\n",
      "Epoch31: Loss 23.501650609552183\n",
      "Epoch32: Loss 23.492014001195994\n",
      "Epoch33: Loss 23.483195264690814\n",
      "Epoch34: Loss 23.47511956139213\n",
      "Epoch35: Loss 23.467715094224612\n",
      "Epoch36: Loss 23.460917437044404\n",
      "Epoch37: Loss 23.45467895382922\n",
      "Epoch38: Loss 23.448939672046908\n",
      "Epoch39: Loss 23.443664533057824\n",
      "Epoch40: Loss 23.438802751772606\n",
      "Epoch41: Loss 23.43432396311393\n",
      "Epoch42: Loss 23.430192193869797\n",
      "Epoch43: Loss 23.426379742017637\n",
      "Epoch44: Loss 23.422859176515193\n",
      "Epoch45: Loss 23.419602495579298\n",
      "Epoch46: Loss 23.416596911930217\n",
      "Epoch47: Loss 23.413807810829333\n",
      "Epoch48: Loss 23.41123059127257\n",
      "Epoch49: Loss 23.408840943519664\n",
      "Epoch50: Loss 23.406627118922014\n",
      "Epoch51: Loss 23.404573358598565\n",
      "Epoch52: Loss 23.40266498932764\n",
      "Epoch53: Loss 23.400894444608415\n",
      "Epoch54: Loss 23.399250355106222\n",
      "Epoch55: Loss 23.397723299519804\n",
      "Epoch56: Loss 23.396302776426936\n",
      "Epoch57: Loss 23.3949865373347\n",
      "Epoch58: Loss 23.393754983291267\n",
      "Epoch59: Loss 23.392612781407347\n",
      "Epoch60: Loss 23.39154735202315\n",
      "Epoch61: Loss 23.390555547068367\n",
      "Epoch62: Loss 23.38963470936571\n",
      "Epoch63: Loss 23.38877244323514\n",
      "Epoch64: Loss 23.387971929632116\n",
      "Epoch65: Loss 23.387227003585497\n",
      "Epoch66: Loss 23.386528102198152\n",
      "Epoch67: Loss 23.385877181167075\n",
      "Epoch68: Loss 23.38527162835982\n",
      "Epoch69: Loss 23.384706245519627\n",
      "Epoch70: Loss 23.384179698731415\n",
      "Epoch71: Loss 23.383685520052758\n",
      "Epoch72: Loss 23.383227797384816\n",
      "Epoch73: Loss 23.382795876992674\n",
      "Epoch74: Loss 23.38239645595351\n",
      "Epoch75: Loss 23.382024998963892\n",
      "Epoch76: Loss 23.381671397534603\n",
      "Epoch77: Loss 23.381348886361902\n",
      "Epoch78: Loss 23.38103979914116\n",
      "Epoch79: Loss 23.380757523183398\n",
      "Epoch80: Loss 23.380487531058648\n",
      "Epoch81: Loss 23.38024066128927\n",
      "Epoch82: Loss 23.380009090792445\n",
      "Epoch83: Loss 23.37979158143614\n",
      "Epoch84: Loss 23.379588381962325\n",
      "Epoch85: Loss 23.379399497127277\n",
      "Epoch86: Loss 23.37922222236956\n",
      "Epoch87: Loss 23.379053854744278\n",
      "Epoch88: Loss 23.37890081817583\n",
      "Epoch89: Loss 23.378754536310044\n",
      "Epoch90: Loss 23.378618711780753\n",
      "Epoch91: Loss 23.378490939184804\n",
      "Epoch92: Loss 23.378373034032\n",
      "Epoch93: Loss 23.378262373846695\n",
      "Epoch94: Loss 23.378158347790908\n",
      "Epoch95: Loss 23.378059349977136\n",
      "Epoch96: Loss 23.37797033430801\n",
      "Epoch97: Loss 23.37788371967226\n",
      "Epoch98: Loss 23.377808107552244\n",
      "Epoch99: Loss 23.377732738062384\n"
     ]
    }
   ],
   "source": [
    "init_op=tf.global_variables_initializer()\n",
    "total=[]\n",
    "\n",
    "with tf.Session() as sess:\n",
    "    sess.run(init_op)\n",
    "    writer = tf.summary.FileWriter(\"../data/graphs\",sess.graph)\n",
    "    # train\n",
    "    for i in range(100):\n",
    "        total_loss=0\n",
    "        for x,y in zip(X_train, Y_train):\n",
    "            _,loss_tmp=sess.run([optimizer,loss], feed_dict={X:x,Y:y})\n",
    "            total_loss+=loss_tmp\n",
    "        total.append(total_loss/n_samples)\n",
    "        print(\"Epoch{0}: Loss {1}\".format(i, total_loss/n_samples))\n",
    "    writer.close()\n",
    "    b_value,w_value=sess.run([b,w])\n",
    "            "
   ]
  },
  {
   "cell_type": "code",
   "execution_count": 47,
   "metadata": {},
   "outputs": [
    {
     "name": "stdout",
     "output_type": "stream",
     "text": [
      "DONE\n"
     ]
    },
    {
     "data": {
      "image/png": "[encoded data removed]",
      "text/plain": [
       "<Figure size 432x288 with 1 Axes>"
      ]
     },
     "metadata": {
      "needs_background": "light"
     },
     "output_type": "display_data"
    },
    {
     "data": {
      "image/png": "[encoded data removed]",
      "text/plain": [
       "<Figure size 432x288 with 1 Axes>"
      ]
     },
     "metadata": {
      "needs_background": "light"
     },
     "output_type": "display_data"
    }
   ],
   "source": [
    "# test\n",
    "Y_pred=X_train*w_value+b_value\n",
    "print(\"DONE\")\n",
    "plt.plot(X_train,Y_train,'bo',label=\"Real Data\")\n",
    "plt.plot(X_train,Y_pred,'r',label=\"Predicted Data\")\n",
    "plt.legend()\n",
    "plt.show()\n",
    "plt.plot(total)\n",
    "plt.show()"
   ]
  },
  {
   "cell_type": "code",
   "execution_count": null,
   "metadata": {},
   "outputs": [],
   "source": []
  }
 ],
 "metadata": {
  "kernelspec": {
   "display_name": "Python 3",
   "language": "python",
   "name": "python3"
  },
  "language_info": {
   "codemirror_mode": {
    "name": "ipython",
    "version": 3
   },
   "file_extension": ".py",
   "mimetype": "text/x-python",
   "name": "python",
   "nbconvert_exporter": "python",
   "pygments_lexer": "ipython3",
   "version": "3.7.6"
  }
 },
 "nbformat": 4,
 "nbformat_minor": 4
}
