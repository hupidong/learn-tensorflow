{
 "cells": [
  {
   "cell_type": "code",
   "execution_count": 30,
   "metadata": {},
   "outputs": [],
   "source": [
    "import tensorflow as tf\n",
    "import tensorflow.contrib.layers as layers\n",
    "from tensorflow.python import debug as tf_debug\n",
    "tf.reset_default_graph()"
   ]
  },
  {
   "cell_type": "code",
   "execution_count": 31,
   "metadata": {},
   "outputs": [],
   "source": [
    "# Network parameters for mist\n",
    "n_hidden = 30\n",
    "n_classes=10\n",
    "n_input=784"
   ]
  },
  {
   "cell_type": "code",
   "execution_count": 32,
   "metadata": {},
   "outputs": [],
   "source": [
    "# hyperparameters\n",
    "batch_size=200\n",
    "eta=0.001\n",
    "max_epoch=100"
   ]
  },
  {
   "cell_type": "code",
   "execution_count": 33,
   "metadata": {},
   "outputs": [
    {
     "name": "stdout",
     "output_type": "stream",
     "text": [
      "Extracting ../data/MNIST_data/train-images-idx3-ubyte.gz\n",
      "Extracting ../data/MNIST_data/train-labels-idx1-ubyte.gz\n",
      "Extracting ../data/MNIST_data/t10k-images-idx3-ubyte.gz\n",
      "Extracting ../data/MNIST_data/t10k-labels-idx1-ubyte.gz\n"
     ]
    }
   ],
   "source": [
    "#MNIST data\n",
    "from tensorflow.examples.tutorials.mnist import input_data\n",
    "mnist=input_data.read_data_sets('../data/MNIST_data/', one_hot=True)"
   ]
  },
  {
   "cell_type": "code",
   "execution_count": 34,
   "metadata": {},
   "outputs": [],
   "source": [
    "def multilayer_perceptron(x):\n",
    "    fc1=layers.fully_connected(x,n_hidden,activation_fn=tf.nn.relu,scope=\"fc1\")\n",
    "    fc2=layers.fully_connected(fc1,256,activation_fn=tf.nn.relu,scope=\"fc2\")\n",
    "    out=layers.fully_connected(fc2,n_classes,activation_fn=None,scope=\"out\")\n",
    "    return out"
   ]
  },
  {
   "cell_type": "code",
   "execution_count": 35,
   "metadata": {},
   "outputs": [
    {
     "name": "stdout",
     "output_type": "stream",
     "text": [
      "WARNING:tensorflow:Entity <bound method Dense.call of <tensorflow.python.layers.core.Dense object at 0x7fb49a7988d0>> could not be transformed and will be executed as-is. Please report this to the AutgoGraph team. When filing the bug, set the verbosity to 10 (on Linux, `export AUTOGRAPH_VERBOSITY=10`) and attach the full output. Cause: converting <bound method Dense.call of <tensorflow.python.layers.core.Dense object at 0x7fb49a7988d0>>: AssertionError: Bad argument number for Name: 3, expecting 4\n",
      "WARNING: Entity <bound method Dense.call of <tensorflow.python.layers.core.Dense object at 0x7fb49a7988d0>> could not be transformed and will be executed as-is. Please report this to the AutgoGraph team. When filing the bug, set the verbosity to 10 (on Linux, `export AUTOGRAPH_VERBOSITY=10`) and attach the full output. Cause: converting <bound method Dense.call of <tensorflow.python.layers.core.Dense object at 0x7fb49a7988d0>>: AssertionError: Bad argument number for Name: 3, expecting 4\n",
      "WARNING:tensorflow:Entity <bound method Dense.call of <tensorflow.python.layers.core.Dense object at 0x7fb4e1185a90>> could not be transformed and will be executed as-is. Please report this to the AutgoGraph team. When filing the bug, set the verbosity to 10 (on Linux, `export AUTOGRAPH_VERBOSITY=10`) and attach the full output. Cause: converting <bound method Dense.call of <tensorflow.python.layers.core.Dense object at 0x7fb4e1185a90>>: AssertionError: Bad argument number for Name: 3, expecting 4\n",
      "WARNING: Entity <bound method Dense.call of <tensorflow.python.layers.core.Dense object at 0x7fb4e1185a90>> could not be transformed and will be executed as-is. Please report this to the AutgoGraph team. When filing the bug, set the verbosity to 10 (on Linux, `export AUTOGRAPH_VERBOSITY=10`) and attach the full output. Cause: converting <bound method Dense.call of <tensorflow.python.layers.core.Dense object at 0x7fb4e1185a90>>: AssertionError: Bad argument number for Name: 3, expecting 4\n",
      "WARNING:tensorflow:Entity <bound method Dense.call of <tensorflow.python.layers.core.Dense object at 0x7fb4e11f19d0>> could not be transformed and will be executed as-is. Please report this to the AutgoGraph team. When filing the bug, set the verbosity to 10 (on Linux, `export AUTOGRAPH_VERBOSITY=10`) and attach the full output. Cause: converting <bound method Dense.call of <tensorflow.python.layers.core.Dense object at 0x7fb4e11f19d0>>: AssertionError: Bad argument number for Name: 3, expecting 4\n",
      "WARNING: Entity <bound method Dense.call of <tensorflow.python.layers.core.Dense object at 0x7fb4e11f19d0>> could not be transformed and will be executed as-is. Please report this to the AutgoGraph team. When filing the bug, set the verbosity to 10 (on Linux, `export AUTOGRAPH_VERBOSITY=10`) and attach the full output. Cause: converting <bound method Dense.call of <tensorflow.python.layers.core.Dense object at 0x7fb4e11f19d0>>: AssertionError: Bad argument number for Name: 3, expecting 4\n"
     ]
    }
   ],
   "source": [
    "# build model,loss\n",
    "x=tf.placeholder(tf.float32,shape=[None,n_input],name='placeholder_x')\n",
    "y=tf.placeholder(tf.float32,shape=[None,n_classes],name='placeholder_y')\n",
    "y_hat=multilayer_perceptron(x)\n",
    "\n",
    "loss=tf.reduce_mean(tf.nn.softmax_cross_entropy_with_logits_v2(logits=y_hat,\n",
    "                                                              labels=y))\n",
    "train=tf.train.AdamOptimizer(learning_rate=eta).minimize(loss)\n",
    "init_op=tf.global_variables_initializer()"
   ]
  },
  {
   "cell_type": "code",
   "execution_count": 36,
   "metadata": {},
   "outputs": [
    {
     "name": "stdout",
     "output_type": "stream",
     "text": [
      "Epoch 00, Loss=0.519844\n",
      "Epoch 01, Loss=0.226926\n",
      "Epoch 02, Loss=0.176784\n",
      "Epoch 03, Loss=0.144670\n",
      "Epoch 04, Loss=0.124032\n",
      "Epoch 05, Loss=0.108398\n",
      "Epoch 06, Loss=0.094855\n",
      "Epoch 07, Loss=0.085211\n",
      "Epoch 08, Loss=0.078546\n",
      "Epoch 09, Loss=0.070511\n",
      "Epoch 10, Loss=0.063754\n",
      "Epoch 11, Loss=0.057689\n",
      "Epoch 12, Loss=0.052022\n",
      "Epoch 13, Loss=0.048974\n",
      "Epoch 14, Loss=0.043259\n",
      "Epoch 15, Loss=0.039715\n",
      "Epoch 16, Loss=0.037895\n",
      "Epoch 17, Loss=0.033152\n",
      "Epoch 18, Loss=0.030607\n",
      "Epoch 19, Loss=0.030051\n",
      "Epoch 20, Loss=0.027686\n",
      "Epoch 21, Loss=0.024472\n",
      "Epoch 22, Loss=0.022882\n",
      "Epoch 23, Loss=0.020461\n",
      "Epoch 24, Loss=0.018065\n",
      "Epoch 25, Loss=0.017691\n",
      "Epoch 26, Loss=0.016332\n",
      "Epoch 27, Loss=0.014226\n",
      "Epoch 28, Loss=0.013374\n",
      "Epoch 29, Loss=0.014714\n",
      "Epoch 30, Loss=0.011693\n",
      "Epoch 31, Loss=0.011102\n",
      "Epoch 32, Loss=0.012209\n",
      "Epoch 33, Loss=0.008046\n",
      "Epoch 34, Loss=0.007892\n",
      "Epoch 35, Loss=0.007976\n",
      "Epoch 36, Loss=0.010046\n",
      "Epoch 37, Loss=0.008217\n",
      "Epoch 38, Loss=0.011320\n",
      "Epoch 39, Loss=0.009466\n",
      "Epoch 40, Loss=0.003866\n",
      "Epoch 41, Loss=0.002850\n",
      "Epoch 42, Loss=0.006562\n",
      "Epoch 43, Loss=0.008587\n",
      "Epoch 44, Loss=0.010275\n",
      "Epoch 45, Loss=0.003757\n",
      "Epoch 46, Loss=0.001855\n",
      "Epoch 47, Loss=0.003421\n",
      "Epoch 48, Loss=0.010254\n",
      "Epoch 49, Loss=0.010963\n",
      "Epoch 50, Loss=0.003524\n",
      "Epoch 51, Loss=0.001808\n",
      "Epoch 52, Loss=0.001138\n",
      "Epoch 53, Loss=0.000630\n",
      "Epoch 54, Loss=0.000420\n",
      "Epoch 55, Loss=0.000401\n",
      "Epoch 56, Loss=0.014908\n",
      "Epoch 57, Loss=0.017019\n",
      "Epoch 58, Loss=0.004594\n",
      "Epoch 59, Loss=0.001952\n",
      "Epoch 60, Loss=0.000788\n",
      "Epoch 61, Loss=0.000384\n",
      "Epoch 62, Loss=0.000314\n",
      "Epoch 63, Loss=0.000268\n",
      "Epoch 64, Loss=0.000251\n",
      "Epoch 65, Loss=0.000257\n",
      "Epoch 66, Loss=0.000209\n",
      "Epoch 67, Loss=0.000191\n",
      "Epoch 68, Loss=0.002345\n",
      "Epoch 69, Loss=0.036693\n",
      "Epoch 70, Loss=0.006077\n",
      "Epoch 71, Loss=0.001796\n",
      "Epoch 72, Loss=0.000940\n",
      "Epoch 73, Loss=0.000725\n",
      "Epoch 74, Loss=0.000611\n",
      "Epoch 75, Loss=0.000257\n",
      "Epoch 76, Loss=0.000204\n",
      "Epoch 77, Loss=0.000181\n",
      "Epoch 78, Loss=0.000165\n",
      "Epoch 79, Loss=0.000151\n",
      "Epoch 80, Loss=0.000138\n",
      "Epoch 81, Loss=0.000128\n",
      "Epoch 82, Loss=0.000115\n",
      "Epoch 83, Loss=0.000111\n",
      "Epoch 84, Loss=0.000096\n",
      "Epoch 85, Loss=0.000088\n",
      "Epoch 86, Loss=0.000084\n",
      "Epoch 87, Loss=0.000077\n",
      "Epoch 88, Loss=0.013725\n",
      "Epoch 89, Loss=0.029809\n",
      "Epoch 90, Loss=0.004667\n",
      "Epoch 91, Loss=0.001498\n",
      "Epoch 92, Loss=0.000667\n",
      "Epoch 93, Loss=0.000266\n",
      "Epoch 94, Loss=0.000183\n",
      "Epoch 95, Loss=0.000159\n",
      "Epoch 96, Loss=0.000141\n",
      "Epoch 97, Loss=0.000127\n",
      "Epoch 98, Loss=0.000115\n",
      "Epoch 99, Loss=0.000104\n",
      "Accuracy%: 0.9751\n"
     ]
    }
   ],
   "source": [
    "# train\n",
    "with tf.Session() as sess:\n",
    "    sess.run(init_op)\n",
    "    for epoch in range(max_epoch):\n",
    "        epoch_loss=0.0\n",
    "        batch_steps=int(mnist.train.num_examples/batch_size)\n",
    "        for i in range(batch_steps):\n",
    "            batch_x,batch_y=mnist.train.next_batch(batch_size)\n",
    "            _,c=sess.run([train,loss],feed_dict={x:batch_x,y:batch_y})\n",
    "            epoch_loss+=c/batch_steps\n",
    "        print('Epoch %02d, Loss=%.6f'%(epoch,epoch_loss))\n",
    "    #test model\n",
    "    correct_pred=tf.equal(tf.argmax(y_hat,1), tf.argmax(y,1))\n",
    "    accuracy=tf.reduce_mean(tf.cast(correct_pred,tf.float32))\n",
    "    print(\"Accuracy%:\", accuracy.eval({x:mnist.test.images,y:mnist.test.labels}))"
   ]
  },
  {
   "cell_type": "code",
   "execution_count": null,
   "metadata": {},
   "outputs": [],
   "source": []
  }
 ],
 "metadata": {
  "kernelspec": {
   "display_name": "Python 3",
   "language": "python",
   "name": "python3"
  },
  "language_info": {
   "codemirror_mode": {
    "name": "ipython",
    "version": 3
   },
   "file_extension": ".py",
   "mimetype": "text/x-python",
   "name": "python",
   "nbconvert_exporter": "python",
   "pygments_lexer": "ipython3",
   "version": "3.7.4"
  },
  "toc": {
   "base_numbering": 1,
   "nav_menu": {},
   "number_sections": true,
   "sideBar": true,
   "skip_h1_title": false,
   "title_cell": "Table of Contents",
   "title_sidebar": "Contents",
   "toc_cell": false,
   "toc_position": {},
   "toc_section_display": true,
   "toc_window_display": false
  }
 },
 "nbformat": 4,
 "nbformat_minor": 2
}
