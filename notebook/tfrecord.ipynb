{
 "cells": [
  {
   "cell_type": "markdown",
   "metadata": {},
   "source": [
    "参考：https://zhuanlan.zhihu.com/p/33223782\n",
    "\n",
    "本notebook基于tensorflow2，部分接口与版本1不一致。"
   ]
  },
  {
   "cell_type": "markdown",
   "metadata": {},
   "source": [
    " 导入库包"
   ]
  },
  {
   "cell_type": "code",
   "execution_count": 1,
   "metadata": {},
   "outputs": [
    {
     "name": "stdout",
     "output_type": "stream",
     "text": [
      "Populating the interactive namespace from numpy and matplotlib\n"
     ]
    }
   ],
   "source": [
    "import tensorflow as tf\n",
    "# 为显示图片\n",
    "from matplotlib import pyplot as plt\n",
    "import matplotlib.image as mpimg\n",
    "%pylab inline\n",
    "# 为数据操作\n",
    "import pandas as pd\n",
    "import numpy as np"
   ]
  },
  {
   "cell_type": "markdown",
   "metadata": {},
   "source": [
    "一、写入tfrecord"
   ]
  },
  {
   "cell_type": "markdown",
   "metadata": {},
   "source": [
    "1. 生成数据"
   ]
  },
  {
   "cell_type": "code",
   "execution_count": 2,
   "metadata": {},
   "outputs": [
    {
     "name": "stdout",
     "output_type": "stream",
     "text": [
      "\n",
      "标量\n",
      "type:int64\n",
      "shape: ()\n",
      "样本0\n",
      "1\n",
      "样本1\n",
      "2\n",
      "样本2\n",
      "3\n",
      "\n",
      "向量\n",
      "type:float32\n",
      "shape: (3,)\n",
      "样本0\n",
      "[0.1 0.1 0.1]\n",
      "样本1\n",
      "[0.2 0.2 0.2]\n",
      "样本2\n",
      "[0.3 0.3 0.3]\n",
      "\n",
      "矩阵\n",
      "type:float32\n",
      "shape: (2, 3)\n",
      "样本0\n",
      "[[0.1 0.1 0.1]\n",
      " [0.1 0.1 0.1]]\n",
      "样本1\n",
      "[[0.2 0.2 0.2]\n",
      " [0.2 0.2 0.2]]\n",
      "样本2\n",
      "[[0.3 0.3 0.3]\n",
      " [0.3 0.3 0.3]]\n",
      "\n",
      "张量\n",
      "type:uint8\n",
      "shape: (100, 100, 3)\n"
     ]
    },
    {
     "data": {
      "text/plain": [
       "<matplotlib.image.AxesImage at 0xfa21d08>"
      ]
     },
     "execution_count": 2,
     "metadata": {},
     "output_type": "execute_result"
    },
    {
     "data": {
      "image/png": "[encoded data removed]",
      "text/plain": [
       "<Figure size 432x288 with 1 Axes>"
      ]
     },
     "metadata": {
      "needs_background": "light"
     },
     "output_type": "display_data"
    }
   ],
   "source": [
    "# 精度3位\n",
    "np.set_printoptions(precision=3)\n",
    "# 用于显示数据\n",
    "def display(alist, show = True):\n",
    "    print('type:%s\\nshape: %s' %(alist[0].dtype,alist[0].shape))\n",
    "    if show:\n",
    "        for i in range(3):\n",
    "            print('样本%s\\n%s' %(i,alist[i]))\n",
    "\n",
    "scalars = np.array([1,2,3],dtype=int64)\n",
    "print('\\n标量')\n",
    "display(scalars)\n",
    "\n",
    "vectors = np.array([[0.1,0.1,0.1],\n",
    "                   [0.2,0.2,0.2],\n",
    "                   [0.3,0.3,0.3]],dtype=float32)\n",
    "print('\\n向量')\n",
    "display(vectors)\n",
    "\n",
    "matrices = np.array([np.array((vectors[0],vectors[0])),\n",
    "                    np.array((vectors[1],vectors[1])),\n",
    "                    np.array((vectors[2],vectors[2]))],dtype=float32)\n",
    "print('\\n矩阵')\n",
    "display(matrices)\n",
    "\n",
    "# shape of image：(806,806,3)\n",
    "img=mpimg.imread('../data/tfrecord/YJango.jpg') # 我的头像\n",
    "tensors = np.array([img,img,img])\n",
    "# show image\n",
    "print('\\n张量')\n",
    "display(tensors, show = False)\n",
    "plt.imshow(img)"
   ]
  },
  {
   "cell_type": "markdown",
   "metadata": {},
   "source": [
    "2. 写入tfrecord file"
   ]
  },
  {
   "cell_type": "code",
   "execution_count": 7,
   "metadata": {},
   "outputs": [],
   "source": [
    "tfwriter = tf.io.TFRecordWriter('../data/tfrecord/test.tfrecord')\n",
    "# 这里我们将会写3个样本，每个样本里有4个feature：标量，向量，矩阵，张量\n",
    "for i in range(3):\n",
    "            # 创建字典\n",
    "    features={}\n",
    "    # 写入标量，类型Int64，由于是标量，所以\"value=[scalars[i]]\" 变成list\n",
    "    features['scalar'] = tf.train.Feature(int64_list=tf.train.Int64List(value=[scalars[i]]))\n",
    "    \n",
    "    # 写入向量，类型float，本身就是list，所以\"value=vectors[i]\"没有中括号\n",
    "    features['vector'] = tf.train.Feature(float_list = tf.train.FloatList(value=vectors[i]))\n",
    "    \n",
    "    # 写入矩阵，类型float，本身是矩阵，一种方法是将矩阵flatten成list\n",
    "    features['matrix'] = tf.train.Feature(float_list = tf.train.FloatList(value=matrices[i].reshape(-1)))\n",
    "    # 然而矩阵的形状信息(2,3)会丢失，需要存储形状信息，随后可转回原形状\n",
    "    features['matrix_shape'] = tf.train.Feature(int64_list = tf.train.Int64List(value=matrices[i].shape))\n",
    "    \n",
    "    # 写入张量，类型float，本身是三维张量，另一种方法是转变成字符类型存储，随后再转回原类型\n",
    "    features['tensor']         = tf.train.Feature(bytes_list=tf.train.BytesList(value=[tensors[i].tostring()]))\n",
    "    # 存储丢失的形状信息(806,806,3)\n",
    "    features['tensor_shape'] = tf.train.Feature(int64_list = tf.train.Int64List(value=tensors[i].shape))\n",
    "  \n",
    "    tf_features = tf.train.Features(feature=features)\n",
    "    tf_example = tf.train.Example(features=tf_features)\n",
    "    tf_serialized = tf_example.SerializeToString()\n",
    "    tfwriter.write(tf_serialized)\n",
    "    \n",
    "tfwriter.close()"
   ]
  },
  {
   "cell_type": "markdown",
   "metadata": {},
   "source": [
    "二、导入tfrecord\n"
   ]
  },
  {
   "cell_type": "code",
   "execution_count": 8,
   "metadata": {},
   "outputs": [],
   "source": [
    "# 从多个tfrecord文件中导入数据到Dataset类 （这里用两个一样）\n",
    "filenames = [\"../data/tfrecord/test.tfrecord\", \"../data/tfrecord/test.tfrecord\"]\n",
    "dataset = tf.data.TFRecordDataset(filenames)"
   ]
  },
  {
   "cell_type": "markdown",
   "metadata": {},
   "source": [
    "由于从tfrecord文件中导入的样本是刚才写入的tf_serialized序列化样本，所以我们需要对每一个样本进行解析。这里就用dataset.map(parse_function)来对dataset里的每个样本进行相同的解析操作。"
   ]
  },
  {
   "cell_type": "markdown",
   "metadata": {},
   "source": [
    "1. 创建解析函数parse_function"
   ]
  },
  {
   "cell_type": "code",
   "execution_count": 16,
   "metadata": {},
   "outputs": [],
   "source": [
    "# 占位\n",
    "def parse_function(example_proto):\n",
    "    pass"
   ]
  },
  {
   "cell_type": "markdown",
   "metadata": {},
   "source": [
    "Step1: 样本解析字典\n",
    "该字典存放着所有feature的解析方式，key为feature名，value为feature的解析方式。\n",
    "\n",
    "解析方式有两种：\n",
    "\n",
    "**定长特征解析：**\n",
    "\n",
    "tf.io.FixedLenFeature(shape, dtype, default_value)\n",
    "\n",
    "shape：可当reshape来用，如vector的shape从(3,)改动成了(1,3)。\n",
    "\n",
    "注：如果写入的feature使用了.tostring() 其shape就是()\n",
    "\n",
    "dtype：必须是tf.float32， tf.int64， tf.string中的一种。\n",
    "\n",
    "default_value：feature值缺失时所指定的值。\n",
    "\n",
    "\n",
    "**不定长特征解析：**\n",
    "\n",
    "tf.io.VarLenFeature(dtype)\n",
    "\n",
    "注：可以不明确指定shape，但得到的tensor是SparseTensor。"
   ]
  },
  {
   "cell_type": "code",
   "execution_count": 11,
   "metadata": {},
   "outputs": [],
   "source": [
    "parse_dict={# 这里没用default_value，随后的都是None\n",
    "            'scalar': tf.io.FixedLenFeature(shape=(), dtype=tf.int64, default_value=None), \n",
    "             \n",
    "            # vector的shape刻意从原本的(3,)指定成(1,3)\n",
    "            'vector': tf.io.FixedLenFeature(shape=(1,3), dtype=tf.float32), \n",
    "                \n",
    "            # 使用 VarLenFeature来解析\n",
    "            'matrix': tf.io.VarLenFeature(dtype=dtype('float32')), \n",
    "            'matrix_shape': tf.io.FixedLenFeature(shape=(2,), dtype=tf.int64), \n",
    "            \n",
    "            # tensor在写入时 使用了toString()，shape是()\n",
    "            # 但这里的type不是tensor的原type，而是字符化后所用的tf.string，随后再回转成原tf.uint8类型\n",
    "            'tensor': tf.io.FixedLenFeature(shape=(), dtype=tf.string), \n",
    "            'tensor_shape': tf.io.FixedLenFeature(shape=(3,), dtype=tf.int64)}"
   ]
  },
  {
   "cell_type": "markdown",
   "metadata": {},
   "source": [
    "Step2:解析样本"
   ]
  },
  {
   "cell_type": "code",
   "execution_count": 14,
   "metadata": {},
   "outputs": [
    {
     "ename": "NameError",
     "evalue": "name 'example_proto' is not defined",
     "output_type": "error",
     "traceback": [
      "\u001b[1;31m---------------------------------------------------------------------------\u001b[0m",
      "\u001b[1;31mNameError\u001b[0m                                 Traceback (most recent call last)",
      "\u001b[1;32m<ipython-input-14-00342bf5a72c>\u001b[0m in \u001b[0;36m<module>\u001b[1;34m\u001b[0m\n\u001b[0;32m      1\u001b[0m \u001b[1;31m# 把序列化样本和解析字典送入函数里得到解析的样本\u001b[0m\u001b[1;33m\u001b[0m\u001b[1;33m\u001b[0m\u001b[1;33m\u001b[0m\u001b[0m\n\u001b[1;32m----> 2\u001b[1;33m \u001b[0mparsed_example\u001b[0m \u001b[1;33m=\u001b[0m \u001b[0mtf\u001b[0m\u001b[1;33m.\u001b[0m\u001b[0mio\u001b[0m\u001b[1;33m.\u001b[0m\u001b[0mparse_single_example\u001b[0m\u001b[1;33m(\u001b[0m\u001b[0mexample_proto\u001b[0m\u001b[1;33m,\u001b[0m \u001b[0mparse_dict\u001b[0m\u001b[1;33m)\u001b[0m\u001b[1;33m\u001b[0m\u001b[1;33m\u001b[0m\u001b[0m\n\u001b[0m",
      "\u001b[1;31mNameError\u001b[0m: name 'example_proto' is not defined"
     ]
    }
   ],
   "source": [
    "# 把序列化样本和解析字典送入函数里得到解析的样本\n",
    "#parsed_example = tf.io.parse_single_example(example_proto, parse_dict)"
   ]
  },
  {
   "cell_type": "markdown",
   "metadata": {},
   "source": [
    "Step 3. 转变特征\n",
    "\n",
    "得到的parsed_example也是一个字典，其中每个key是对应feature的名字，value是相应的feature解析值。如果使用了下面两种情况，则还需要对这些值进行转变。其他情况则不用。\n",
    "\n",
    "string类型：tf.decode_raw(parsed_feature, type) 来解码\n",
    "\n",
    "注：这里type必须要和当初.tostring()化前的一致。如tensor转变前是tf.uint8，这里就需是tf.uint8；转变前是tf.float32，则tf.float32\n",
    "\n",
    "VarLen解析：由于得到的是SparseTensor，所以视情况需要用tf.sparse_tensor_to_dense(SparseTensor)来转变成DenseTensor"
   ]
  },
  {
   "cell_type": "markdown",
   "metadata": {},
   "source": [
    "Step 4. 改变形状\n",
    "\n",
    "到此为止得到的特征都是向量，需要根据之前存储的shape信息对每个feature进行reshape。"
   ]
  },
  {
   "cell_type": "code",
   "execution_count": 23,
   "metadata": {},
   "outputs": [],
   "source": [
    "#  解析函数汇总\n",
    "def parse_function(example_proto):\n",
    "    #step1\n",
    "    parse_dict={# 这里没用default_value，随后的都是None\n",
    "            'scalar': tf.io.FixedLenFeature(shape=(), dtype=tf.int64, default_value=None), \n",
    "             \n",
    "            # vector的shape刻意从原本的(3,)指定成(1,3)\n",
    "            'vector': tf.io.FixedLenFeature(shape=(1,3), dtype=tf.float32), \n",
    "                \n",
    "            # 使用 VarLenFeature来解析\n",
    "            'matrix': tf.io.VarLenFeature(dtype=dtype('float32')), \n",
    "            'matrix_shape': tf.io.FixedLenFeature(shape=(2,), dtype=tf.int64), \n",
    "            \n",
    "            # tensor在写入时 使用了toString()，shape是()\n",
    "            # 但这里的type不是tensor的原type，而是字符化后所用的tf.string，随后再回转成原tf.uint8类型\n",
    "            'tensor': tf.io.FixedLenFeature(shape=(), dtype=tf.string), \n",
    "            'tensor_shape': tf.io.FixedLenFeature(shape=(3,), dtype=tf.int64)}\n",
    "    #step2\n",
    "    parsed_example = tf.io.parse_single_example(example_proto, parse_dict)\n",
    "    #step3\n",
    "    # 解码字符\n",
    "    parsed_example['tensor'] = tf.io.decode_raw(parsed_example['tensor'], tf.uint8)\n",
    "    # 稀疏表示 转为 密集表示\n",
    "    parsed_example['matrix'] = tf.compat.v1.sparse_tensor_to_dense(parsed_example['matrix'])\n",
    "    #step4\n",
    "    # 转变matrix形状\n",
    "    parsed_example['matrix'] = tf.reshape(parsed_example['matrix'], parsed_example['matrix_shape'])\n",
    "    # 转变tensor形状\n",
    "    parsed_example['tensor'] = tf.reshape(parsed_example['tensor'], parsed_example['tensor_shape'])\n",
    "    # return \n",
    "    return parsed_example"
   ]
  },
  {
   "cell_type": "code",
   "execution_count": 26,
   "metadata": {},
   "outputs": [],
   "source": [
    "parsed_dataset = dataset.map(parse_function)"
   ]
  },
  {
   "cell_type": "code",
   "execution_count": 28,
   "metadata": {},
   "outputs": [
    {
     "name": "stdout",
     "output_type": "stream",
     "text": [
      "<MapDataset shapes: {matrix: (None, None), matrix_shape: (2,), scalar: (), tensor: (None, None, None), tensor_shape: (3,), vector: (1, 3)}, types: {matrix: tf.float32, matrix_shape: tf.int64, scalar: tf.int64, tensor: tf.uint8, tensor_shape: tf.int64, vector: tf.float32}>\n"
     ]
    }
   ],
   "source": [
    "print(parsed_dataset)"
   ]
  },
  {
   "cell_type": "markdown",
   "metadata": {},
   "source": [
    "2. 创建迭代器"
   ]
  },
  {
   "cell_type": "code",
   "execution_count": 33,
   "metadata": {},
   "outputs": [],
   "source": [
    "# 创建获取数据集中样本的迭代器\n",
    "iterator = tf.compat.v1.data.make_one_shot_iterator(parsed_dataset)"
   ]
  },
  {
   "cell_type": "markdown",
   "metadata": {},
   "source": [
    "3. 获取样本"
   ]
  },
  {
   "cell_type": "code",
   "execution_count": 34,
   "metadata": {},
   "outputs": [
    {
     "name": "stdout",
     "output_type": "stream",
     "text": [
      "==============example 1 ==============\n",
      "scalar: value: tf.Tensor(1, shape=(), dtype=int64) | shape: () | type: <dtype: 'int64'>\n",
      "vector shape: (1, 3) | type: <dtype: 'float32'>\n",
      "matrix shape: (2, 3) | type: <dtype: 'float32'>\n",
      "tensor shape: (100, 100, 3) | type: <dtype: 'uint8'>\n",
      "==============example 2 ==============\n",
      "scalar: value: tf.Tensor(2, shape=(), dtype=int64) | shape: () | type: <dtype: 'int64'>\n",
      "vector shape: (1, 3) | type: <dtype: 'float32'>\n",
      "matrix shape: (2, 3) | type: <dtype: 'float32'>\n",
      "tensor shape: (100, 100, 3) | type: <dtype: 'uint8'>\n",
      "==============example 3 ==============\n",
      "scalar: value: tf.Tensor(3, shape=(), dtype=int64) | shape: () | type: <dtype: 'int64'>\n",
      "vector shape: (1, 3) | type: <dtype: 'float32'>\n",
      "matrix shape: (2, 3) | type: <dtype: 'float32'>\n",
      "tensor shape: (100, 100, 3) | type: <dtype: 'uint8'>\n",
      "==============example 4 ==============\n",
      "scalar: value: tf.Tensor(1, shape=(), dtype=int64) | shape: () | type: <dtype: 'int64'>\n",
      "vector shape: (1, 3) | type: <dtype: 'float32'>\n",
      "matrix shape: (2, 3) | type: <dtype: 'float32'>\n",
      "tensor shape: (100, 100, 3) | type: <dtype: 'uint8'>\n",
      "==============example 5 ==============\n",
      "scalar: value: tf.Tensor(2, shape=(), dtype=int64) | shape: () | type: <dtype: 'int64'>\n",
      "vector shape: (1, 3) | type: <dtype: 'float32'>\n",
      "matrix shape: (2, 3) | type: <dtype: 'float32'>\n",
      "tensor shape: (100, 100, 3) | type: <dtype: 'uint8'>\n",
      "==============example 6 ==============\n",
      "scalar: value: tf.Tensor(3, shape=(), dtype=int64) | shape: () | type: <dtype: 'int64'>\n",
      "vector shape: (1, 3) | type: <dtype: 'float32'>\n",
      "matrix shape: (2, 3) | type: <dtype: 'float32'>\n",
      "tensor shape: (100, 100, 3) | type: <dtype: 'uint8'>\n",
      "End of dataset\n"
     ]
    },
    {
     "data": {
      "text/plain": [
       "<matplotlib.image.AxesImage at 0x1c2469c8>"
      ]
     },
     "execution_count": 34,
     "metadata": {},
     "output_type": "execute_result"
    },
    {
     "data": {
      "image/png": "[encoded data removed]",
      "text/plain": [
       "<Figure size 432x288 with 1 Axes>"
      ]
     },
     "metadata": {
      "needs_background": "light"
     },
     "output_type": "display_data"
    }
   ],
   "source": [
    "i=1\n",
    "while True:\n",
    "    # 不断的获得下一个样本\n",
    "    try:\n",
    "        # 获得的值直接属于graph的一部分，所以不再需要用feed_dict来喂\n",
    "        next_element = iterator.get_next()\n",
    "        scalar,vector,matrix,tensor = (next_element['scalar'],\n",
    "                                                next_element['vector'],\n",
    "                                                next_element['matrix'],\n",
    "                                                next_element['tensor'])\n",
    "    # 如果遍历完了数据集，则返回错误\n",
    "    except tf.errors.OutOfRangeError:\n",
    "        print(\"End of dataset\")\n",
    "        break\n",
    "    else:\n",
    "        # 显示每个样本中的所有feature的信息，只显示scalar的值\n",
    "        print('==============example %s ==============' %i)\n",
    "        print('scalar: value: %s | shape: %s | type: %s' %(scalar, scalar.shape, scalar.dtype))\n",
    "        print('vector shape: %s | type: %s' %(vector.shape, vector.dtype))\n",
    "        print('matrix shape: %s | type: %s' %(matrix.shape, matrix.dtype))\n",
    "        print('tensor shape: %s | type: %s' %(tensor.shape, tensor.dtype))\n",
    "    i+=1\n",
    "plt.imshow(tensor)"
   ]
  },
  {
   "cell_type": "markdown",
   "metadata": {},
   "source": [
    "4.shuffle"
   ]
  },
  {
   "cell_type": "code",
   "execution_count": 38,
   "metadata": {},
   "outputs": [
    {
     "name": "stdout",
     "output_type": "stream",
     "text": [
      "example 1 | scalar: value: tf.Tensor(1, shape=(), dtype=int64)\n",
      "example 2 | scalar: value: tf.Tensor(3, shape=(), dtype=int64)\n",
      "example 3 | scalar: value: tf.Tensor(2, shape=(), dtype=int64)\n",
      "example 4 | scalar: value: tf.Tensor(1, shape=(), dtype=int64)\n",
      "example 5 | scalar: value: tf.Tensor(2, shape=(), dtype=int64)\n",
      "example 6 | scalar: value: tf.Tensor(3, shape=(), dtype=int64)\n",
      "End of dataset\n"
     ]
    }
   ],
   "source": [
    "shuffle_dataset = parsed_dataset.shuffle(buffer_size=10000)\n",
    "iterator = tf.compat.v1.data.make_one_shot_iterator(shuffle_dataset)\n",
    "i=1\n",
    "while True:\n",
    "    try:\n",
    "        next_element=iterator.get_next()\n",
    "        scalar=next_element['scalar']\n",
    "    except tf.errors.OutOfRangeError:\n",
    "        print(\"End of dataset\")\n",
    "        break\n",
    "    else:\n",
    "        print('example %s | scalar: value: %s' %(i,scalar))\n",
    "    i+=1"
   ]
  },
  {
   "cell_type": "markdown",
   "metadata": {},
   "source": [
    "5. batch"
   ]
  },
  {
   "cell_type": "code",
   "execution_count": 43,
   "metadata": {},
   "outputs": [
    {
     "name": "stdout",
     "output_type": "stream",
     "text": [
      "example 1 | scalar: value: tf.Tensor([1 2 2], shape=(3,), dtype=int64)\n",
      "example 2 | scalar: value: tf.Tensor([3 1 3], shape=(3,), dtype=int64)\n",
      "End of dataset\n"
     ]
    }
   ],
   "source": [
    "batch_dataset = shuffle_dataset.batch(3)\n",
    "iterator = tf.compat.v1.data.make_one_shot_iterator(batch_dataset)\n",
    "\n",
    "i = 1\n",
    "while True:\n",
    "    # 不断的获得下一个样本\n",
    "    try:\n",
    "        next_element = iterator.get_next()\n",
    "        scalar = next_element['scalar']\n",
    "    except tf.errors.OutOfRangeError:\n",
    "        print(\"End of dataset\")\n",
    "        break\n",
    "    else:\n",
    "        print('example %s | scalar: value: %s' %(i,scalar))\n",
    "    i+=1"
   ]
  },
  {
   "cell_type": "markdown",
   "metadata": {},
   "source": [
    "6. batch_padding  \n",
    "\n",
    "也可以在每个batch内进行padding,对单个样本进行padding\n",
    "\n",
    "padded_shapes指定了内部数据是如何pad的。\n",
    "\n",
    "- rank数要与元数据对应\n",
    "\n",
    "- rank中的任何一维被设定成None或-1时都表示将pad到该batch下的最大长度\n"
   ]
  },
  {
   "cell_type": "code",
   "execution_count": 46,
   "metadata": {},
   "outputs": [
    {
     "name": "stdout",
     "output_type": "stream",
     "text": [
      "==============example 1 ==============\n",
      "scalar: value: tf.Tensor([1 2 3 1], shape=(4,), dtype=int64) | shape: (4,) | type: <dtype: 'int64'>\n",
      "padded vector value\n",
      "tf.Tensor(\n",
      "[[[0.1 0.1 0.1 0.  0. ]]\n",
      "\n",
      " [[0.2 0.2 0.2 0.  0. ]]\n",
      "\n",
      " [[0.3 0.3 0.3 0.  0. ]]\n",
      "\n",
      " [[0.1 0.1 0.1 0.  0. ]]], shape=(4, 1, 5), dtype=float32):\n",
      "vector shape: (4, 1, 5) | type: <dtype: 'float32'>\n",
      "matrix shape: (4, 2, 3) | type: <dtype: 'float32'>\n",
      "tensor shape: (4, 100, 100, 3) | type: <dtype: 'uint8'>\n",
      "==============example 2 ==============\n",
      "scalar: value: tf.Tensor([2 3], shape=(2,), dtype=int64) | shape: (2,) | type: <dtype: 'int64'>\n",
      "padded vector value\n",
      "tf.Tensor(\n",
      "[[[0.2 0.2 0.2 0.  0. ]]\n",
      "\n",
      " [[0.3 0.3 0.3 0.  0. ]]], shape=(2, 1, 5), dtype=float32):\n",
      "vector shape: (2, 1, 5) | type: <dtype: 'float32'>\n",
      "matrix shape: (2, 2, 3) | type: <dtype: 'float32'>\n",
      "tensor shape: (2, 100, 100, 3) | type: <dtype: 'uint8'>\n",
      "End of dataset\n"
     ]
    }
   ],
   "source": [
    "batch_padding_dataset = parsed_dataset.padded_batch(4, \n",
    "                        padded_shapes={'scalar': [],\n",
    "                                       'vector': [-1,5],\n",
    "                                       'matrix': [None,None],\n",
    "                                       'matrix_shape': [None],\n",
    "                                       'tensor': [None,None,None],\n",
    "                                       'tensor_shape': [None]})\n",
    "iterator = tf.compat.v1.data.make_one_shot_iterator(batch_padding_dataset)\n",
    "\n",
    "i = 1\n",
    "while True:\n",
    "    try:\n",
    "        next_element = iterator.get_next()\n",
    "        scalar,vector,matrix,tensor = (next_element['scalar'],\n",
    "                                                next_element['vector'],\n",
    "                                                next_element['matrix'],\n",
    "                                                next_element['tensor'])\n",
    "    except tf.errors.OutOfRangeError:\n",
    "        print(\"End of dataset\")\n",
    "        break\n",
    "    else:\n",
    "        print('==============example %s ==============' %i)\n",
    "        print('scalar: value: %s | shape: %s | type: %s' %(scalar, scalar.shape, scalar.dtype))\n",
    "        print('padded vector value\\n%s:\\nvector shape: %s | type: %s' %(vector, vector.shape, vector.dtype))\n",
    "        print('matrix shape: %s | type: %s' %(matrix.shape, matrix.dtype))\n",
    "        print('tensor shape: %s | type: %s' %(tensor.shape, tensor.dtype))\n",
    "    i+=1"
   ]
  },
  {
   "cell_type": "markdown",
   "metadata": {},
   "source": [
    "7. epoch\n",
    "\n",
    "使用.repeat(num_epochs) 来指定要遍历几遍整个数据集"
   ]
  },
  {
   "cell_type": "code",
   "execution_count": 47,
   "metadata": {},
   "outputs": [
    {
     "name": "stdout",
     "output_type": "stream",
     "text": [
      "example 1 | scalar: value: tf.Tensor(1, shape=(), dtype=int64)\n",
      "example 2 | scalar: value: tf.Tensor(2, shape=(), dtype=int64)\n",
      "example 3 | scalar: value: tf.Tensor(3, shape=(), dtype=int64)\n",
      "example 4 | scalar: value: tf.Tensor(1, shape=(), dtype=int64)\n",
      "example 5 | scalar: value: tf.Tensor(2, shape=(), dtype=int64)\n",
      "example 6 | scalar: value: tf.Tensor(3, shape=(), dtype=int64)\n",
      "example 7 | scalar: value: tf.Tensor(1, shape=(), dtype=int64)\n",
      "example 8 | scalar: value: tf.Tensor(2, shape=(), dtype=int64)\n",
      "example 9 | scalar: value: tf.Tensor(3, shape=(), dtype=int64)\n",
      "example 10 | scalar: value: tf.Tensor(1, shape=(), dtype=int64)\n",
      "example 11 | scalar: value: tf.Tensor(2, shape=(), dtype=int64)\n",
      "example 12 | scalar: value: tf.Tensor(3, shape=(), dtype=int64)\n",
      "End of dataset\n"
     ]
    }
   ],
   "source": [
    "# num\n",
    "num_epochs = 2\n",
    "epoch_dataset = parsed_dataset.repeat(num_epochs)\n",
    "iterator = tf.compat.v1.data.make_one_shot_iterator(epoch_dataset)\n",
    "\n",
    "i = 1\n",
    "while True:\n",
    "    try:\n",
    "        next_element = iterator.get_next()\n",
    "        scalar = next_element['scalar']\n",
    "    except tf.errors.OutOfRangeError:\n",
    "        print(\"End of dataset\")\n",
    "        break\n",
    "    else:\n",
    "        print('example %s | scalar: value: %s' %(i,scalar))\n",
    "    i+=1"
   ]
  },
  {
   "cell_type": "code",
   "execution_count": null,
   "metadata": {},
   "outputs": [],
   "source": []
  }
 ],
 "metadata": {
  "kernelspec": {
   "display_name": "Python 3",
   "language": "python",
   "name": "python3"
  },
  "language_info": {
   "codemirror_mode": {
    "name": "ipython",
    "version": 3
   },
   "file_extension": ".py",
   "mimetype": "text/x-python",
   "name": "python",
   "nbconvert_exporter": "python",
   "pygments_lexer": "ipython3",
   "version": "3.7.6"
  }
 },
 "nbformat": 4,
 "nbformat_minor": 4
}
