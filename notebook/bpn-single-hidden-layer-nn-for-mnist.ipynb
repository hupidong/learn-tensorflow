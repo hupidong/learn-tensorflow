{
 "cells": [
  {
   "cell_type": "code",
   "execution_count": 1,
   "metadata": {},
   "outputs": [],
   "source": [
    "import tensorflow as tf\n",
    "from tensorflow.examples.tutorials.mnist import input_data"
   ]
  },
  {
   "cell_type": "code",
   "execution_count": 3,
   "metadata": {},
   "outputs": [
    {
     "name": "stdout",
     "output_type": "stream",
     "text": [
      "Extracting ../data/MNIST_data/train-images-idx3-ubyte.gz\n",
      "Extracting ../data/MNIST_data/train-labels-idx1-ubyte.gz\n",
      "Extracting ../data/MNIST_data/t10k-images-idx3-ubyte.gz\n",
      "Extracting ../data/MNIST_data/t10k-labels-idx1-ubyte.gz\n"
     ]
    }
   ],
   "source": [
    "mnist=input_data.read_data_sets(\"../data/MNIST_data/\",one_hot=True)"
   ]
  },
  {
   "cell_type": "code",
   "execution_count": 17,
   "metadata": {},
   "outputs": [],
   "source": [
    "# 定义超参数和其它常量\n",
    "## Data specific constants\n",
    "n_input=784 #img shape: 28*28\n",
    "n_classes=10\n",
    "\n",
    "## hyperparameters\n",
    "max_epoches=10000\n",
    "learning_rate=0.5\n",
    "batch_size=10\n",
    "seed = 0\n",
    "n_hidden=30"
   ]
  },
  {
   "cell_type": "code",
   "execution_count": 5,
   "metadata": {},
   "outputs": [],
   "source": [
    "# 激活函数的导数\n",
    "def sigmprime(x):\n",
    "    return tf.multiply(tf.sigmoid(x), \n",
    "                       tf.subtract(tf.constant(1.0), tf.sigmoid(x)))"
   ]
  },
  {
   "cell_type": "code",
   "execution_count": 6,
   "metadata": {},
   "outputs": [],
   "source": [
    "# 训练数据占位符\n",
    "x=tf.placeholder(tf.float32,shape=[None, n_input], name='X')\n",
    "y=tf.placeholder(tf.float32,shape=[None, n_classes], name='Y')\n"
   ]
  },
  {
   "cell_type": "code",
   "execution_count": 7,
   "metadata": {},
   "outputs": [],
   "source": [
    "# 创建模型\n",
    "def multilayer_perceptron(x, weights, biases):\n",
    "    \n",
    "    h_layer_1=tf.add(tf.matmul(x, weights['h1']), biases['h1'])\n",
    "    out_layer_1=tf.sigmoid(h_layer_1)\n",
    "    h_out=tf.matmul(out_layer_1,weights['out']) + biases['out']\n",
    "    return tf.sigmoid(h_out), h_out, out_layer_1, h_layer_1"
   ]
  },
  {
   "cell_type": "code",
   "execution_count": 9,
   "metadata": {},
   "outputs": [],
   "source": [
    "# 定义权重变量\n",
    "weights={\n",
    "    'h1':tf.Variable(tf.random_normal([n_input, n_hidden], seed=seed)),\n",
    "    'out':tf.Variable(tf.random_normal([n_hidden, n_classes], seed=seed))\n",
    "}\n",
    "\n",
    "biases={\n",
    "    'h1':tf.Variable(tf.random_normal([1, n_hidden], seed=seed)),\n",
    "    'out':tf.Variable(tf.random_normal([1, n_classes], seed=seed))\n",
    "}"
   ]
  },
  {
   "cell_type": "code",
   "execution_count": 11,
   "metadata": {},
   "outputs": [],
   "source": [
    "# 创建模型（计算图）\n",
    "## Forward \n",
    "y_hat, h_2,o_1,h_1=multilayer_perceptron(x, weights=weights,biases=biases)\n",
    "## Error\n",
    "err=y_hat-y\n",
    "# Backword\n",
    "delta_2=tf.multiply(err, sigmprime(h_2))\n",
    "delta_w_2=tf.matmul(tf.transpose(o_1), delta_2)\n",
    "wtd_error=tf.matmul(delta_2,tf.transpose(weights['out']))\n",
    "delta_1=tf.multiply(wtd_error, sigmprime(h_1))\n",
    "delta_w_1=tf.matmul(tf.transpose(x), delta_1)\n",
    "eta=tf.constant(learning_rate)\n",
    "## update weights\n",
    "step=[\n",
    "    tf.assign(weights['h1'],\n",
    "              tf.subtract(weights['h1'],tf.multiply(eta,delta_w_1))),\n",
    "    tf.assign(biases['h1'],\n",
    "             tf.subtract(biases['h1'], tf.multiply(eta,tf.reduce_mean(delta_1,axis=0)))),\n",
    "    tf.assign(weights['out'],\n",
    "              tf.subtract(weights['out'],tf.multiply(eta,delta_w_2))),\n",
    "    tf.assign(biases['out'],\n",
    "             tf.subtract(biases['out'], tf.multiply(eta,tf.reduce_mean(delta_2,axis=0))))\n",
    "]"
   ]
  },
  {
   "cell_type": "code",
   "execution_count": 14,
   "metadata": {},
   "outputs": [],
   "source": [
    "# 准确率\n",
    "acct_mat=tf.equal(tf.argmax(y_hat, 1), tf.argmax(y,1))\n",
    "accuracy=tf.reduce_mean(tf.cast(acct_mat, tf.float32))\n"
   ]
  },
  {
   "cell_type": "code",
   "execution_count": 19,
   "metadata": {},
   "outputs": [
    {
     "name": "stdout",
     "output_type": "stream",
     "text": [
      "Epoch: 0 Accuracy Train%: 12.894545495510101 Accuracy Test%: 13.3200004696846\n",
      "Epoch: 100 Accuracy Train%: 39.156362414360046 Accuracy Test%: 38.94000053405762\n",
      "Epoch: 200 Accuracy Train%: 49.78181719779968 Accuracy Test%: 49.68000054359436\n",
      "Epoch: 300 Accuracy Train%: 61.60181760787964 Accuracy Test%: 62.08000183105469\n",
      "Epoch: 400 Accuracy Train%: 74.83999729156494 Accuracy Test%: 76.08000040054321\n",
      "Epoch: 500 Accuracy Train%: 76.74182057380676 Accuracy Test%: 77.53999829292297\n",
      "Epoch: 600 Accuracy Train%: 79.93090748786926 Accuracy Test%: 80.36999702453613\n",
      "Epoch: 700 Accuracy Train%: 81.58727288246155 Accuracy Test%: 82.41999745368958\n",
      "Epoch: 800 Accuracy Train%: 83.74181985855103 Accuracy Test%: 83.67000222206116\n",
      "Epoch: 900 Accuracy Train%: 83.24363827705383 Accuracy Test%: 83.24000239372253\n",
      "Epoch: 1000 Accuracy Train%: 84.3745470046997 Accuracy Test%: 84.74000096321106\n",
      "Epoch: 1100 Accuracy Train%: 84.5054566860199 Accuracy Test%: 84.71999764442444\n",
      "Epoch: 1200 Accuracy Train%: 85.32545566558838 Accuracy Test%: 85.98999977111816\n",
      "Epoch: 1300 Accuracy Train%: 85.60181856155396 Accuracy Test%: 85.80999970436096\n",
      "Epoch: 1400 Accuracy Train%: 86.57272458076477 Accuracy Test%: 86.89000010490417\n",
      "Epoch: 1500 Accuracy Train%: 86.9563639163971 Accuracy Test%: 87.22000122070312\n",
      "Epoch: 1600 Accuracy Train%: 87.16909289360046 Accuracy Test%: 87.41999864578247\n",
      "Epoch: 1700 Accuracy Train%: 86.90909147262573 Accuracy Test%: 87.15999722480774\n",
      "Epoch: 1800 Accuracy Train%: 88.00363540649414 Accuracy Test%: 88.23000192642212\n",
      "Epoch: 1900 Accuracy Train%: 87.27454543113708 Accuracy Test%: 87.5\n",
      "Epoch: 2000 Accuracy Train%: 87.23999857902527 Accuracy Test%: 87.25000023841858\n",
      "Epoch: 2100 Accuracy Train%: 87.82545328140259 Accuracy Test%: 88.0299985408783\n",
      "Epoch: 2200 Accuracy Train%: 88.3436381816864 Accuracy Test%: 88.66999745368958\n",
      "Epoch: 2300 Accuracy Train%: 88.59999775886536 Accuracy Test%: 88.67999911308289\n",
      "Epoch: 2400 Accuracy Train%: 88.49999904632568 Accuracy Test%: 88.67999911308289\n",
      "Epoch: 2500 Accuracy Train%: 89.25091028213501 Accuracy Test%: 89.82999920845032\n",
      "Epoch: 2600 Accuracy Train%: 89.5727276802063 Accuracy Test%: 90.02000093460083\n",
      "Epoch: 2700 Accuracy Train%: 89.68363404273987 Accuracy Test%: 90.10999798774719\n",
      "Epoch: 2800 Accuracy Train%: 89.43818211555481 Accuracy Test%: 89.50999975204468\n",
      "Epoch: 2900 Accuracy Train%: 89.65272903442383 Accuracy Test%: 90.14999866485596\n",
      "Epoch: 3000 Accuracy Train%: 89.75818157196045 Accuracy Test%: 90.09000062942505\n",
      "Epoch: 3100 Accuracy Train%: 89.43818211555481 Accuracy Test%: 89.5900011062622\n",
      "Epoch: 3200 Accuracy Train%: 89.86908793449402 Accuracy Test%: 89.78000283241272\n",
      "Epoch: 3300 Accuracy Train%: 89.70545530319214 Accuracy Test%: 90.04999995231628\n",
      "Epoch: 3400 Accuracy Train%: 89.70727324485779 Accuracy Test%: 90.09000062942505\n",
      "Epoch: 3500 Accuracy Train%: 89.96363878250122 Accuracy Test%: 90.31000137329102\n",
      "Epoch: 3600 Accuracy Train%: 88.99272680282593 Accuracy Test%: 89.52000141143799\n",
      "Epoch: 3700 Accuracy Train%: 90.64727425575256 Accuracy Test%: 91.00000262260437\n",
      "Epoch: 3800 Accuracy Train%: 90.51091074943542 Accuracy Test%: 90.9500002861023\n",
      "Epoch: 3900 Accuracy Train%: 90.2400016784668 Accuracy Test%: 90.42999744415283\n",
      "Epoch: 4000 Accuracy Train%: 90.20181894302368 Accuracy Test%: 90.89000225067139\n",
      "Epoch: 4100 Accuracy Train%: 90.68363904953003 Accuracy Test%: 90.97999930381775\n",
      "Epoch: 4200 Accuracy Train%: 90.81636071205139 Accuracy Test%: 91.32999777793884\n",
      "Epoch: 4300 Accuracy Train%: 90.72545170783997 Accuracy Test%: 91.21000170707703\n",
      "Epoch: 4400 Accuracy Train%: 90.70909023284912 Accuracy Test%: 90.74000120162964\n",
      "Epoch: 4500 Accuracy Train%: 90.70727229118347 Accuracy Test%: 90.81000089645386\n",
      "Epoch: 4600 Accuracy Train%: 90.35090804100037 Accuracy Test%: 90.39999842643738\n",
      "Epoch: 4700 Accuracy Train%: 90.52909016609192 Accuracy Test%: 90.96999764442444\n",
      "Epoch: 4800 Accuracy Train%: 90.81090688705444 Accuracy Test%: 91.14000201225281\n",
      "Epoch: 4900 Accuracy Train%: 90.7981812953949 Accuracy Test%: 90.81000089645386\n",
      "Epoch: 5000 Accuracy Train%: 91.31636619567871 Accuracy Test%: 91.53000116348267\n",
      "Epoch: 5100 Accuracy Train%: 90.87636470794678 Accuracy Test%: 90.72999954223633\n",
      "Epoch: 5200 Accuracy Train%: 90.78545570373535 Accuracy Test%: 90.81000089645386\n",
      "Epoch: 5300 Accuracy Train%: 91.7163610458374 Accuracy Test%: 91.54000282287598\n",
      "Epoch: 5400 Accuracy Train%: 91.46000146865845 Accuracy Test%: 91.38000011444092\n",
      "Epoch: 5500 Accuracy Train%: 91.05636477470398 Accuracy Test%: 91.40999913215637\n",
      "Epoch: 5600 Accuracy Train%: 91.3309097290039 Accuracy Test%: 91.38000011444092\n",
      "Epoch: 5700 Accuracy Train%: 91.54545664787292 Accuracy Test%: 91.57000184059143\n",
      "Epoch: 5800 Accuracy Train%: 91.61090850830078 Accuracy Test%: 91.43999814987183\n",
      "Epoch: 5900 Accuracy Train%: 91.62181615829468 Accuracy Test%: 91.68000221252441\n",
      "Epoch: 6000 Accuracy Train%: 92.00363755226135 Accuracy Test%: 91.96000099182129\n",
      "Epoch: 6100 Accuracy Train%: 90.67636132240295 Accuracy Test%: 90.71000218391418\n",
      "Epoch: 6200 Accuracy Train%: 91.98181629180908 Accuracy Test%: 91.74000024795532\n",
      "Epoch: 6300 Accuracy Train%: 91.92363619804382 Accuracy Test%: 92.11999773979187\n",
      "Epoch: 6400 Accuracy Train%: 92.09091067314148 Accuracy Test%: 92.07000136375427\n",
      "Epoch: 6500 Accuracy Train%: 92.05090999603271 Accuracy Test%: 92.1500027179718\n",
      "Epoch: 6600 Accuracy Train%: 91.00182056427002 Accuracy Test%: 91.50999784469604\n",
      "Epoch: 6700 Accuracy Train%: 91.97818040847778 Accuracy Test%: 91.97999835014343\n",
      "Epoch: 6800 Accuracy Train%: 91.96181893348694 Accuracy Test%: 92.00999736785889\n",
      "Epoch: 6900 Accuracy Train%: 92.2145426273346 Accuracy Test%: 91.90999865531921\n",
      "Epoch: 7000 Accuracy Train%: 92.35273003578186 Accuracy Test%: 92.3799991607666\n",
      "Epoch: 7100 Accuracy Train%: 92.25636124610901 Accuracy Test%: 92.18999743461609\n",
      "Epoch: 7200 Accuracy Train%: 91.55091047286987 Accuracy Test%: 91.60000085830688\n",
      "Epoch: 7300 Accuracy Train%: 91.94727540016174 Accuracy Test%: 92.00999736785889\n",
      "Epoch: 7400 Accuracy Train%: 91.59272909164429 Accuracy Test%: 91.6700005531311\n",
      "Epoch: 7500 Accuracy Train%: 92.28727221488953 Accuracy Test%: 92.25000143051147\n",
      "Epoch: 7600 Accuracy Train%: 91.67090654373169 Accuracy Test%: 91.71000123023987\n",
      "Epoch: 7700 Accuracy Train%: 91.68182015419006 Accuracy Test%: 91.71000123023987\n",
      "Epoch: 7800 Accuracy Train%: 91.89454317092896 Accuracy Test%: 91.89000129699707\n",
      "Epoch: 7900 Accuracy Train%: 92.23818182945251 Accuracy Test%: 92.1500027179718\n",
      "Epoch: 8000 Accuracy Train%: 91.95454716682434 Accuracy Test%: 92.04999804496765\n",
      "Epoch: 8100 Accuracy Train%: 92.59091019630432 Accuracy Test%: 92.65000224113464\n",
      "Epoch: 8200 Accuracy Train%: 92.45818257331848 Accuracy Test%: 92.65000224113464\n",
      "Epoch: 8300 Accuracy Train%: 92.40909218788147 Accuracy Test%: 92.21000075340271\n",
      "Epoch: 8400 Accuracy Train%: 92.30363368988037 Accuracy Test%: 92.39000082015991\n",
      "Epoch: 8500 Accuracy Train%: 92.25272536277771 Accuracy Test%: 92.17000007629395\n",
      "Epoch: 8600 Accuracy Train%: 92.59091019630432 Accuracy Test%: 92.61999726295471\n",
      "Epoch: 8700 Accuracy Train%: 91.78363680839539 Accuracy Test%: 91.92000031471252\n",
      "Epoch: 8800 Accuracy Train%: 92.42545366287231 Accuracy Test%: 92.36999750137329\n",
      "Epoch: 8900 Accuracy Train%: 92.67818331718445 Accuracy Test%: 92.5000011920929\n",
      "Epoch: 9000 Accuracy Train%: 92.0272707939148 Accuracy Test%: 91.8500006198883\n",
      "Epoch: 9100 Accuracy Train%: 92.64545440673828 Accuracy Test%: 92.29999780654907\n",
      "Epoch: 9200 Accuracy Train%: 92.64181852340698 Accuracy Test%: 92.59999990463257\n",
      "Epoch: 9300 Accuracy Train%: 92.69818067550659 Accuracy Test%: 92.66999959945679\n",
      "Epoch: 9400 Accuracy Train%: 92.84363389015198 Accuracy Test%: 92.51999855041504\n",
      "Epoch: 9500 Accuracy Train%: 92.97272562980652 Accuracy Test%: 92.61999726295471\n",
      "Epoch: 9600 Accuracy Train%: 92.6800012588501 Accuracy Test%: 92.5499975681305\n",
      "Epoch: 9700 Accuracy Train%: 92.86181926727295 Accuracy Test%: 92.82000064849854\n",
      "Epoch: 9800 Accuracy Train%: 92.59818196296692 Accuracy Test%: 92.36999750137329\n",
      "Epoch: 9900 Accuracy Train%: 91.8436348438263 Accuracy Test%: 91.4900004863739\n"
     ]
    }
   ],
   "source": [
    "# run\n",
    "init_op=tf.global_variables_initializer()\n",
    "with tf.Session() as sess:\n",
    "    sess.run(init_op)\n",
    "    for epoch in range(max_epoches):\n",
    "        batch_xs, batch_ys=mnist.train.next_batch(batch_size)\n",
    "        sess.run(step, feed_dict={x:batch_xs,y:batch_ys})\n",
    "        if epoch%100==0:\n",
    "            acc_test=sess.run(accuracy,\n",
    "                              feed_dict={x:mnist.test.images, y:mnist.test.labels})\n",
    "            acc_train=sess.run(accuracy,\n",
    "                              feed_dict={x:mnist.train.images,y:mnist.train.labels})\n",
    "            \n",
    "            print('Epoch: {0} Accuracy Train%: {1} Accuracy Test%: {2}'.\n",
    "                  format(epoch, acc_train*100, acc_test*100))"
   ]
  },
  {
   "cell_type": "code",
   "execution_count": null,
   "metadata": {},
   "outputs": [],
   "source": []
  }
 ],
 "metadata": {
  "kernelspec": {
   "display_name": "Python 3",
   "language": "python",
   "name": "python3"
  },
  "language_info": {
   "codemirror_mode": {
    "name": "ipython",
    "version": 3
   },
   "file_extension": ".py",
   "mimetype": "text/x-python",
   "name": "python",
   "nbconvert_exporter": "python",
   "pygments_lexer": "ipython3",
   "version": "3.7.4"
  },
  "toc": {
   "base_numbering": 1,
   "nav_menu": {},
   "number_sections": true,
   "sideBar": true,
   "skip_h1_title": false,
   "title_cell": "Table of Contents",
   "title_sidebar": "Contents",
   "toc_cell": false,
   "toc_position": {},
   "toc_section_display": true,
   "toc_window_display": false
  }
 },
 "nbformat": 4,
 "nbformat_minor": 2
}
