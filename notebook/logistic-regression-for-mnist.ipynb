{
 "cells": [
  {
   "cell_type": "code",
   "execution_count": 3,
   "metadata": {},
   "outputs": [],
   "source": [
    "import tensorflow as tf\n",
    "import matplotlib.pyplot as plt\n",
    "import matplotlib.image as mpimg"
   ]
  },
  {
   "cell_type": "code",
   "execution_count": 9,
   "metadata": {},
   "outputs": [
    {
     "name": "stdout",
     "output_type": "stream",
     "text": [
      "Extracting MNIST-data/train-images-idx3-ubyte.gz\n",
      "Extracting MNIST-data/train-labels-idx1-ubyte.gz\n",
      "Extracting MNIST-data/t10k-images-idx3-ubyte.gz\n",
      "Extracting MNIST-data/t10k-labels-idx1-ubyte.gz\n"
     ]
    }
   ],
   "source": [
    "# Data\n",
    "from tensorflow.examples.tutorials.mnist import input_data\n",
    "mnist=input_data.read_data_sets(\"MNIST-data/\",one_hot=True)"
   ]
  },
  {
   "cell_type": "code",
   "execution_count": 12,
   "metadata": {},
   "outputs": [],
   "source": [
    "# 定义训练数据占位符\n",
    "x=tf.placeholder(tf.float32,[None, 784], name=\"X\")\n",
    "y=tf.placeholder(tf.float32,[None, 10], name=\"Y\")\n"
   ]
  },
  {
   "cell_type": "code",
   "execution_count": 13,
   "metadata": {},
   "outputs": [],
   "source": [
    "# 创建学习权重变量\n",
    "W=tf.Variable(tf.zeros([784,10]), name=\"W\")\n",
    "b=tf.Variable(tf.zeros([10]), name=\"b\")"
   ]
  },
  {
   "cell_type": "code",
   "execution_count": 15,
   "metadata": {},
   "outputs": [],
   "source": [
    "# 模型\n",
    "with tf.name_scope(\"wx_b\") as scope:\n",
    "    y_hat=tf.nn.softmax(tf.matmul(x,W)+b)"
   ]
  },
  {
   "cell_type": "code",
   "execution_count": 16,
   "metadata": {},
   "outputs": [],
   "source": [
    "# 收集训练中间数据\n",
    "w_h=tf.summary.histogram('weights',W)\n",
    "b_h=tf.summary.histogram('biases',b)"
   ]
  },
  {
   "cell_type": "code",
   "execution_count": 18,
   "metadata": {},
   "outputs": [],
   "source": [
    "# 定义损失函数\n",
    "with tf.name_scope(\"cross-entropy\") as scope:\n",
    "    loss=tf.reduce_mean(tf.nn.softmax_cross_entropy_with_logits_v2(labels=y,logits=y_hat))\n",
    "    tf.summary.scalar(\"cross-entropy\",loss)"
   ]
  },
  {
   "cell_type": "code",
   "execution_count": 19,
   "metadata": {},
   "outputs": [],
   "source": [
    "# 定义优化器\n",
    "with tf.name_scope(\"Train\") as scope:\n",
    "    optimizer=tf.train.GradientDescentOptimizer(0.01).minimize(loss)"
   ]
  },
  {
   "cell_type": "code",
   "execution_count": 21,
   "metadata": {},
   "outputs": [
    {
     "name": "stdout",
     "output_type": "stream",
     "text": [
      "WARNING:tensorflow:From <ipython-input-21-58d70671c41b>:2: arg_max (from tensorflow.python.ops.gen_math_ops) is deprecated and will be removed in a future version.\n",
      "Instructions for updating:\n",
      "Use `tf.math.argmax` instead\n"
     ]
    }
   ],
   "source": [
    "# 定义准确率\n",
    "correct_prediction = tf.equal(tf.arg_max(y, 1), tf.arg_max(y_hat, 1))\n",
    "accuracy = tf.reduce_mean(tf.cast(correct_prediction, tf.float32))"
   ]
  },
  {
   "cell_type": "code",
   "execution_count": 29,
   "metadata": {},
   "outputs": [
    {
     "name": "stdout",
     "output_type": "stream",
     "text": [
      "Epoch 0: Loss=2.250602922439575, Accuracy=0.538100004196167\n",
      "Epoch 1: Loss=2.092184482054277, Accuracy=0.6152999997138977\n",
      "Epoch 2: Loss=1.9607333508404818, Accuracy=0.7042999863624573\n",
      "Epoch 3: Loss=1.8820789109576832, Accuracy=0.7616999745368958\n",
      "Epoch 4: Loss=1.835135226466439, Accuracy=0.791100025177002\n",
      "Epoch 5: Loss=1.8027424480698326, Accuracy=0.7975999712944031\n",
      "Epoch 6: Loss=1.780289562181993, Accuracy=0.8019000291824341\n",
      "Epoch 7: Loss=1.7637464412775907, Accuracy=0.8057000041007996\n",
      "Epoch 8: Loss=1.750675647692247, Accuracy=0.8087000250816345\n",
      "Epoch 9: Loss=1.742571397261186, Accuracy=0.8122000098228455\n",
      "Epoch 10: Loss=1.7315441304987127, Accuracy=0.8137000203132629\n",
      "Epoch 11: Loss=1.7268509823625737, Accuracy=0.8159999847412109\n",
      "Epoch 12: Loss=1.720498319755901, Accuracy=0.8180999755859375\n",
      "Epoch 13: Loss=1.716075583154505, Accuracy=0.8185999989509583\n",
      "Epoch 14: Loss=1.7098391630432823, Accuracy=0.8202000260353088\n",
      "Epoch 15: Loss=1.7069112805886701, Accuracy=0.8216999769210815\n",
      "Epoch 16: Loss=1.7019653881679881, Accuracy=0.8216000199317932\n",
      "Epoch 17: Loss=1.7011425531994213, Accuracy=0.8230999708175659\n",
      "Epoch 18: Loss=1.695965693430467, Accuracy=0.8241000175476074\n",
      "Epoch 19: Loss=1.6944969816641373, Accuracy=0.8251000046730042\n",
      "Epoch 20: Loss=1.6921049042181535, Accuracy=0.8260999917984009\n",
      "Epoch 21: Loss=1.6903515559976752, Accuracy=0.8263000249862671\n",
      "Epoch 22: Loss=1.6867818802053278, Accuracy=0.8269000053405762\n",
      "Epoch 23: Loss=1.6856328201293946, Accuracy=0.8278999924659729\n",
      "Epoch 24: Loss=1.683080938946117, Accuracy=0.829200029373169\n",
      "Epoch 25: Loss=1.6798085552995856, Accuracy=0.8325999975204468\n",
      "Epoch 26: Loss=1.6756773361292752, Accuracy=0.8414999842643738\n",
      "Epoch 27: Loss=1.6695180504972285, Accuracy=0.8531000018119812\n",
      "Epoch 28: Loss=1.6633383625203912, Accuracy=0.8601999878883362\n",
      "Epoch 29: Loss=1.6583300525491889, Accuracy=0.8647000193595886\n",
      "Epoch 30: Loss=1.653347492651506, Accuracy=0.8700000047683716\n",
      "Epoch 31: Loss=1.6493104908683083, Accuracy=0.8740000128746033\n",
      "Epoch 32: Loss=1.6452708836035295, Accuracy=0.8766000270843506\n",
      "Epoch 33: Loss=1.6419727383960376, Accuracy=0.8805000185966492\n",
      "Epoch 34: Loss=1.6383330947702581, Accuracy=0.8824999928474426\n",
      "Epoch 35: Loss=1.634603268883445, Accuracy=0.8848000168800354\n",
      "Epoch 36: Loss=1.633415526043285, Accuracy=0.887499988079071\n",
      "Epoch 37: Loss=1.629480925690044, Accuracy=0.8895000219345093\n",
      "Epoch 38: Loss=1.6280039319125088, Accuracy=0.8912000060081482\n",
      "Epoch 39: Loss=1.6254854718121616, Accuracy=0.8921999931335449\n",
      "Epoch 40: Loss=1.6230095132914457, Accuracy=0.8942000269889832\n",
      "Epoch 41: Loss=1.6226744688640942, Accuracy=0.8939999938011169\n",
      "Epoch 42: Loss=1.6206633322889155, Accuracy=0.8949999809265137\n",
      "Epoch 43: Loss=1.6190666890144347, Accuracy=0.895799994468689\n",
      "Epoch 44: Loss=1.6177322684634816, Accuracy=0.8959000110626221\n",
      "Epoch 45: Loss=1.6168174149773338, Accuracy=0.8971999883651733\n",
      "Epoch 46: Loss=1.6139668187228116, Accuracy=0.8968999981880188\n",
      "Epoch 47: Loss=1.6152742039073598, Accuracy=0.8981999754905701\n",
      "Epoch 48: Loss=1.613798206502741, Accuracy=0.8988000154495239\n",
      "Epoch 49: Loss=1.6112542286786167, Accuracy=0.8985000252723694\n",
      "Epoch 50: Loss=1.6108776887980374, Accuracy=0.8981999754905701\n",
      "Epoch 51: Loss=1.6107479392398487, Accuracy=0.8985000252723694\n",
      "Epoch 52: Loss=1.609617274241014, Accuracy=0.8996000289916992\n",
      "Epoch 53: Loss=1.6081045946207913, Accuracy=0.8996000289916992\n",
      "Epoch 54: Loss=1.607110108462247, Accuracy=0.8996000289916992\n",
      "Epoch 55: Loss=1.6079628244313326, Accuracy=0.8999000191688538\n",
      "Epoch 56: Loss=1.6049833904613149, Accuracy=0.8999000191688538\n",
      "Epoch 57: Loss=1.6046639984304254, Accuracy=0.9003000259399414\n",
      "Epoch 58: Loss=1.604599561257796, Accuracy=0.9009000062942505\n",
      "Epoch 59: Loss=1.6037278164516795, Accuracy=0.9009000062942505\n",
      "Epoch 60: Loss=1.6036576687205921, Accuracy=0.901199996471405\n",
      "Epoch 61: Loss=1.6024619364738464, Accuracy=0.9014000296592712\n",
      "Epoch 62: Loss=1.601249670982361, Accuracy=0.9023000001907349\n",
      "Epoch 63: Loss=1.6014521900090304, Accuracy=0.9024999737739563\n",
      "Epoch 64: Loss=1.599846704006195, Accuracy=0.9027000069618225\n",
      "Epoch 65: Loss=1.6009152657335455, Accuracy=0.9032999873161316\n",
      "Epoch 66: Loss=1.5990437605164267, Accuracy=0.9032999873161316\n",
      "Epoch 67: Loss=1.5985495680028743, Accuracy=0.9035000205039978\n",
      "Epoch 68: Loss=1.5981370830535888, Accuracy=0.9039999842643738\n",
      "Epoch 69: Loss=1.5973529811338945, Accuracy=0.9039000272750854\n",
      "Epoch 70: Loss=1.5986309604211286, Accuracy=0.9046000242233276\n",
      "Epoch 71: Loss=1.5956454342061823, Accuracy=0.90420001745224\n",
      "Epoch 72: Loss=1.5959417390823365, Accuracy=0.904699981212616\n",
      "Epoch 73: Loss=1.5964711891521106, Accuracy=0.9052000045776367\n",
      "Epoch 74: Loss=1.5957242079214615, Accuracy=0.9049999713897705\n",
      "Epoch 75: Loss=1.593647769581188, Accuracy=0.9050999879837036\n",
      "Epoch 76: Loss=1.5957645886594598, Accuracy=0.9053999781608582\n",
      "Epoch 77: Loss=1.5925686413591558, Accuracy=0.9052000045776367\n",
      "Epoch 78: Loss=1.5946565829623829, Accuracy=0.9053999781608582\n",
      "Epoch 79: Loss=1.5920404158939014, Accuracy=0.9053999781608582\n",
      "Epoch 80: Loss=1.5924107503890992, Accuracy=0.9059000015258789\n",
      "Epoch 81: Loss=1.5937050862745805, Accuracy=0.9057000279426575\n",
      "Epoch 82: Loss=1.5901387765190818, Accuracy=0.9064000248908997\n",
      "Epoch 83: Loss=1.592461849342693, Accuracy=0.9063000082969666\n",
      "Epoch 84: Loss=1.5903742293878036, Accuracy=0.9067000150680542\n",
      "Epoch 85: Loss=1.5909672526879743, Accuracy=0.9071000218391418\n",
      "Epoch 86: Loss=1.5901639530875467, Accuracy=0.9068999886512756\n",
      "Epoch 87: Loss=1.5905875845388933, Accuracy=0.9071000218391418\n",
      "Epoch 88: Loss=1.5889282889799639, Accuracy=0.9067999720573425\n",
      "Epoch 89: Loss=1.5889487062801013, Accuracy=0.9070000052452087\n",
      "Epoch 90: Loss=1.5896177660335193, Accuracy=0.9075999855995178\n",
      "Epoch 91: Loss=1.588693795637651, Accuracy=0.9075999855995178\n",
      "Epoch 92: Loss=1.588225105892528, Accuracy=0.90829998254776\n",
      "Epoch 93: Loss=1.5884440905397588, Accuracy=0.9083999991416931\n",
      "Epoch 94: Loss=1.5864901553500783, Accuracy=0.9083999991416931\n",
      "Epoch 95: Loss=1.58749319488352, Accuracy=0.9085000157356262\n",
      "Epoch 96: Loss=1.5877282372387973, Accuracy=0.9083999991416931\n",
      "Epoch 97: Loss=1.5870644734122537, Accuracy=0.9086999893188477\n",
      "Epoch 98: Loss=1.5861230707168579, Accuracy=0.9088000059127808\n",
      "Epoch 99: Loss=1.586286494731903, Accuracy=0.9090999960899353\n",
      "DONE\n",
      "0.9091\n"
     ]
    }
   ],
   "source": [
    "#Train\n",
    "init_op=tf.global_variables_initializer()\n",
    "merged_summary_op=tf.summary.merge_all()\n",
    "\n",
    "MAX_EPOCHES=100\n",
    "BATCH_SIZE=100\n",
    "\n",
    "with tf.Session() as sess:\n",
    "    sess.run(init_op)\n",
    "    summary_writer=tf.summary.FileWriter(\"../data/logistic-regression-for-mnist\",session=sess)\n",
    "    # trainning\n",
    "    for epoch in range(MAX_EPOCHES):\n",
    "        loss_avg=0\n",
    "        num_of_batch=int(mnist.train.num_examples/BATCH_SIZE)\n",
    "        for i in range(num_of_batch):\n",
    "            batch_xs, batch_ys=mnist.train.next_batch(BATCH_SIZE)\n",
    "            _, loss_tmp, summary_str=sess.run([optimizer,loss,merged_summary_op],\n",
    "                                             feed_dict={x:batch_xs,y:batch_ys})\n",
    "            loss_avg+=loss_tmp\n",
    "            summary_writer.add_summary(summary_str,epoch*num_of_batch+i)\n",
    "        loss_avg=loss_avg/num_of_batch\n",
    "        accuracy_tmp = sess.run(accuracy,feed_dict={x:mnist.test.images, y:mnist.test.labels})\n",
    "        print(\"Epoch {0}: Loss={1}, Accuracy={2}\".format(epoch, loss_avg, accuracy_tmp))\n",
    "    print(\"DONE\")\n",
    "    print(sess.run(accuracy,feed_dict={x:mnist.test.images, y:mnist.test.labels}))"
   ]
  },
  {
   "cell_type": "code",
   "execution_count": null,
   "metadata": {},
   "outputs": [],
   "source": []
  }
 ],
 "metadata": {
  "kernelspec": {
   "display_name": "Python 3",
   "language": "python",
   "name": "python3"
  },
  "language_info": {
   "codemirror_mode": {
    "name": "ipython",
    "version": 3
   },
   "file_extension": ".py",
   "mimetype": "text/x-python",
   "name": "python",
   "nbconvert_exporter": "python",
   "pygments_lexer": "ipython3",
   "version": "3.7.4"
  },
  "toc": {
   "base_numbering": 1,
   "nav_menu": {},
   "number_sections": true,
   "sideBar": true,
   "skip_h1_title": false,
   "title_cell": "Table of Contents",
   "title_sidebar": "Contents",
   "toc_cell": false,
   "toc_position": {},
   "toc_section_display": true,
   "toc_window_display": false
  }
 },
 "nbformat": 4,
 "nbformat_minor": 2
}
