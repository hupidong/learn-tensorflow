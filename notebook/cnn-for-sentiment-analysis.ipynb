{
 "cells": [
  {
   "cell_type": "code",
   "execution_count": 29,
   "metadata": {},
   "outputs": [],
   "source": [
    "import tensorflow as tf\n",
    "import tflearn\n",
    "from tflearn.layers.core import input_data, dropout, fully_connected\n",
    "from tflearn.layers.conv import conv_1d, global_max_pool\n",
    "from tflearn.layers.merge_ops import merge\n",
    "from tflearn.layers.estimator import regression\n",
    "from tflearn.data_utils import to_categorical,pad_sequences\n",
    "from tflearn.datasets import imdb\n",
    "tf.reset_default_graph()"
   ]
  },
  {
   "cell_type": "code",
   "execution_count": 30,
   "metadata": {},
   "outputs": [],
   "source": [
    "# load Dataset\n",
    "train,test,_=imdb.load_data(path='../data/imdb/imdb.pkl',\n",
    "                            n_words=10000,valid_portion=0.1)\n",
    "trainX,trainY = train\n",
    "testX,testY=test\n",
    "# pad the sequence\n",
    "trainX=pad_sequences(trainX,maxlen=100,value=0.)\n",
    "testX=pad_sequences(testX,maxlen=100,value=0.)\n",
    "# one-hot encoding\n",
    "trainY=to_categorical(trainY,nb_classes=2)\n",
    "testY=to_categorical(testY,nb_classes=2)"
   ]
  },
  {
   "cell_type": "code",
   "execution_count": 31,
   "metadata": {},
   "outputs": [
    {
     "name": "stdout",
     "output_type": "stream",
     "text": [
      "size trainX (22500, 100)\n",
      "size testX (2500, 100)\n",
      "size testY (2500, 2)\n",
      "size trainY (22500, 2)\n"
     ]
    }
   ],
   "source": [
    "# \n",
    "print(\"size trainX\", trainX.shape)\n",
    "print(\"size testX\",testX.shape)\n",
    "print(\"size testY\",testY.shape)\n",
    "print(\"size trainY\",trainY.shape)"
   ]
  },
  {
   "cell_type": "code",
   "execution_count": 32,
   "metadata": {},
   "outputs": [
    {
     "data": {
      "text/plain": [
       "array([ 17,  25,  10, 406,  26,  14,  56,  61,  62, 323,   4,   0,   0,\n",
       "         0,   0,   0,   0,   0,   0,   0,   0,   0,   0,   0,   0,   0,\n",
       "         0,   0,   0,   0,   0,   0,   0,   0,   0,   0,   0,   0,   0,\n",
       "         0,   0,   0,   0,   0,   0,   0,   0,   0,   0,   0,   0,   0,\n",
       "         0,   0,   0,   0,   0,   0,   0,   0,   0,   0,   0,   0,   0,\n",
       "         0,   0,   0,   0,   0,   0,   0,   0,   0,   0,   0,   0,   0,\n",
       "         0,   0,   0,   0,   0,   0,   0,   0,   0,   0,   0,   0,   0,\n",
       "         0,   0,   0,   0,   0,   0,   0,   0,   0])"
      ]
     },
     "execution_count": 32,
     "metadata": {},
     "output_type": "execute_result"
    }
   ],
   "source": [
    "trainX[0,:]"
   ]
  },
  {
   "cell_type": "code",
   "execution_count": 33,
   "metadata": {},
   "outputs": [],
   "source": [
    "# build an embedding\n",
    "network=input_data(shape=[None, 100], name='input')\n",
    "network=tflearn.embedding(network,input_dim=10000,output_dim=128)\n"
   ]
  },
  {
   "cell_type": "code",
   "execution_count": 34,
   "metadata": {},
   "outputs": [],
   "source": [
    "# build convnet\n",
    "branch1=conv_1d(network,nb_filter=128,filter_size=3,padding='valid',\n",
    "                activation='relu',regularizer='L2')\n",
    "branch2=conv_1d(network,nb_filter=128,filter_size=4,padding='valid',\n",
    "               activation='relu',regularizer='L2')\n",
    "branch3=conv_1d(network,nb_filter=128,filter_size=5,padding='valid',\n",
    "               activation='relu',regularizer='L2')\n",
    "network=merge([branch1,branch2,branch3],mode='concat',axis=1)\n",
    "network=tf.expand_dims(network,2)\n",
    "network=global_max_pool(network)\n",
    "network=dropout(network,0.5)\n",
    "network=fully_connected(network,2,activation='softmax')\n"
   ]
  },
  {
   "cell_type": "code",
   "execution_count": 35,
   "metadata": {},
   "outputs": [],
   "source": [
    "network=regression(network,optimizer='adam',learning_rate=0.001,\n",
    "                  loss='categorical_crossentropy',name='target')"
   ]
  },
  {
   "cell_type": "code",
   "execution_count": 36,
   "metadata": {},
   "outputs": [
    {
     "name": "stdout",
     "output_type": "stream",
     "text": [
      "Training Step: 3519  | total loss: \u001b[1m\u001b[32m0.10474\u001b[0m\u001b[0m | time: 124.551s\n",
      "| Adam | epoch: 005 | loss: 0.10474 - acc: 0.9687 -- iter: 22496/22500\n",
      "Training Step: 3520  | total loss: \u001b[1m\u001b[32m0.10091\u001b[0m\u001b[0m | time: 126.885s\n",
      "| Adam | epoch: 005 | loss: 0.10091 - acc: 0.9718 | val_loss: 0.55239 - val_acc: 0.8132 -- iter: 22500/22500\n",
      "--\n"
     ]
    }
   ],
   "source": [
    "#train\n",
    "model=tflearn.DNN(network,tensorboard_verbose=0)\n",
    "model.fit(trainX,trainY,n_epoch=5,shuffle=True,validation_set=(testX,testY),\n",
    "         show_metric=True,batch_size=32)"
   ]
  },
  {
   "cell_type": "code",
   "execution_count": 37,
   "metadata": {},
   "outputs": [
    {
     "ename": "AttributeError",
     "evalue": "'DNN' object has no attribute 'summary'",
     "output_type": "error",
     "traceback": [
      "\u001b[1;31m---------------------------------------------------------------------------\u001b[0m",
      "\u001b[1;31mAttributeError\u001b[0m                            Traceback (most recent call last)",
      "\u001b[1;32m<ipython-input-37-5f15418b3570>\u001b[0m in \u001b[0;36m<module>\u001b[1;34m\u001b[0m\n\u001b[1;32m----> 1\u001b[1;33m \u001b[0mmodel\u001b[0m\u001b[1;33m.\u001b[0m\u001b[0msummary\u001b[0m\u001b[1;33m(\u001b[0m\u001b[1;33m)\u001b[0m\u001b[1;33m\u001b[0m\u001b[1;33m\u001b[0m\u001b[0m\n\u001b[0m",
      "\u001b[1;31mAttributeError\u001b[0m: 'DNN' object has no attribute 'summary'"
     ]
    }
   ],
   "source": [
    "model."
   ]
  },
  {
   "cell_type": "code",
   "execution_count": null,
   "metadata": {},
   "outputs": [],
   "source": []
  }
 ],
 "metadata": {
  "kernelspec": {
   "display_name": "Python 3",
   "language": "python",
   "name": "python3"
  },
  "language_info": {
   "codemirror_mode": {
    "name": "ipython",
    "version": 3
   },
   "file_extension": ".py",
   "mimetype": "text/x-python",
   "name": "python",
   "nbconvert_exporter": "python",
   "pygments_lexer": "ipython3",
   "version": "3.7.6"
  }
 },
 "nbformat": 4,
 "nbformat_minor": 4
}
