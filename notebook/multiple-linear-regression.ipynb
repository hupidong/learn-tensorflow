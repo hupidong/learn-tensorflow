{
 "cells": [
  {
   "cell_type": "code",
   "execution_count": 5,
   "metadata": {},
   "outputs": [],
   "source": [
    "import tensorflow as tf\n",
    "import numpy as np\n",
    "import matplotlib.pyplot as plt"
   ]
  },
  {
   "cell_type": "code",
   "execution_count": 6,
   "metadata": {},
   "outputs": [],
   "source": [
    "def normalize(X,axis=0):\n",
    "    mean=np.mean(X,axis=axis,keepdims=True)\n",
    "    std=np.std(X,axis=axis,keepdims=True)\n",
    "    X=(X-mean)/std\n",
    "    return X"
   ]
  },
  {
   "cell_type": "code",
   "execution_count": 7,
   "metadata": {},
   "outputs": [],
   "source": [
    "def append_bias_reshape(features,labels):\n",
    "    m=features.shape[0]\n",
    "    n=features.shape[1]\n",
    "    x=np.reshape(np.c_[np.ones(m),features],[m,n+1])\n",
    "    y=np.reshape(labels,[m,1])\n",
    "    return x,y"
   ]
  },
  {
   "cell_type": "code",
   "execution_count": 8,
   "metadata": {},
   "outputs": [],
   "source": [
    "#Data\n",
    "boston=tf.contrib.learn.datasets.load_dataset(\"boston\")\n",
    "X_train,Y_train=boston.data, boston.target\n",
    "X_train=normalize(X=X_train)\n",
    "X_train,Y_train=append_bias_reshape(X_train,Y_train)\n",
    "m=len(X_train)\n",
    "n=13+1  # features + bias\n"
   ]
  },
  {
   "cell_type": "code",
   "execution_count": 9,
   "metadata": {},
   "outputs": [],
   "source": [
    "# 数据占位符\n",
    "X=tf.placeholder(tf.float32,name=\"X\", shape=[m,n])\n",
    "Y=tf.placeholder(tf.float32,name=\"Y\", shape=[m,1])"
   ]
  },
  {
   "cell_type": "code",
   "execution_count": 10,
   "metadata": {},
   "outputs": [],
   "source": [
    "#权重变量\n",
    "w=tf.Variable(tf.random_normal([n,1]))"
   ]
  },
  {
   "cell_type": "code",
   "execution_count": 11,
   "metadata": {},
   "outputs": [],
   "source": [
    "# 模型\n",
    "Y_hat=tf.matmul(X,w)"
   ]
  },
  {
   "cell_type": "code",
   "execution_count": 12,
   "metadata": {},
   "outputs": [],
   "source": [
    "#损失函数\n",
    "loss=tf.reduce_mean(tf.square(Y-Y_hat),name=\"loss\")"
   ]
  },
  {
   "cell_type": "code",
   "execution_count": 13,
   "metadata": {},
   "outputs": [],
   "source": [
    "#选择优化器\n",
    "optimizer=tf.train.GradientDescentOptimizer(learning_rate=0.01).minimize(loss)"
   ]
  },
  {
   "cell_type": "code",
   "execution_count": 14,
   "metadata": {},
   "outputs": [
    {
     "name": "stdout",
     "output_type": "stream",
     "text": [
      "Epoch 0: Loss 624.7061767578125\n",
      "Epoch 1: Loss 595.4017333984375\n",
      "Epoch 2: Loss 568.5200805664062\n",
      "Epoch 3: Loss 543.6773681640625\n",
      "Epoch 4: Loss 520.5711059570312\n",
      "Epoch 5: Loss 498.9613342285156\n",
      "Epoch 6: Loss 478.6571350097656\n",
      "Epoch 7: Loss 459.50518798828125\n",
      "Epoch 8: Loss 441.3813781738281\n",
      "Epoch 9: Loss 424.1845397949219\n",
      "Epoch 10: Loss 407.83135986328125\n",
      "Epoch 11: Loss 392.2522888183594\n",
      "Epoch 12: Loss 377.3887939453125\n",
      "Epoch 13: Loss 363.19110107421875\n",
      "Epoch 14: Loss 349.6161193847656\n",
      "Epoch 15: Loss 336.6261901855469\n",
      "Epoch 16: Loss 324.188232421875\n",
      "Epoch 17: Loss 312.2725830078125\n",
      "Epoch 18: Loss 300.8523864746094\n",
      "Epoch 19: Loss 289.90338134765625\n",
      "Epoch 20: Loss 279.4032287597656\n",
      "Epoch 21: Loss 269.3311462402344\n",
      "Epoch 22: Loss 259.6679992675781\n",
      "Epoch 23: Loss 250.3956756591797\n",
      "Epoch 24: Loss 241.49732971191406\n",
      "Epoch 25: Loss 232.95687866210938\n",
      "Epoch 26: Loss 224.75938415527344\n",
      "Epoch 27: Loss 216.89039611816406\n",
      "Epoch 28: Loss 209.33631896972656\n",
      "Epoch 29: Loss 202.084228515625\n",
      "Epoch 30: Loss 195.12167358398438\n",
      "Epoch 31: Loss 188.4368133544922\n",
      "Epoch 32: Loss 182.01841735839844\n",
      "Epoch 33: Loss 175.85562133789062\n",
      "Epoch 34: Loss 169.9381103515625\n",
      "Epoch 35: Loss 164.25592041015625\n",
      "Epoch 36: Loss 158.7996063232422\n",
      "Epoch 37: Loss 153.56008911132812\n",
      "Epoch 38: Loss 148.5286102294922\n",
      "Epoch 39: Loss 143.6968231201172\n",
      "Epoch 40: Loss 139.05670166015625\n",
      "Epoch 41: Loss 134.6005096435547\n",
      "Epoch 42: Loss 130.3209228515625\n",
      "Epoch 43: Loss 126.21089172363281\n",
      "Epoch 44: Loss 122.2635498046875\n",
      "Epoch 45: Loss 118.47242736816406\n",
      "Epoch 46: Loss 114.83126831054688\n",
      "Epoch 47: Loss 111.33403778076172\n",
      "Epoch 48: Loss 107.97503662109375\n",
      "Epoch 49: Loss 104.7486801147461\n",
      "Epoch 50: Loss 101.64971160888672\n",
      "Epoch 51: Loss 98.67300415039062\n",
      "Epoch 52: Loss 95.8136978149414\n",
      "Epoch 53: Loss 93.06710815429688\n",
      "Epoch 54: Loss 90.42872619628906\n",
      "Epoch 55: Loss 87.89422607421875\n",
      "Epoch 56: Loss 85.4594497680664\n",
      "Epoch 57: Loss 83.12046813964844\n",
      "Epoch 58: Loss 80.8734359741211\n",
      "Epoch 59: Loss 78.71466827392578\n",
      "Epoch 60: Loss 76.64065551757812\n",
      "Epoch 61: Loss 74.64804077148438\n",
      "Epoch 62: Loss 72.73357391357422\n",
      "Epoch 63: Loss 70.89411163330078\n",
      "Epoch 64: Loss 69.1267318725586\n",
      "Epoch 65: Loss 67.42848205566406\n",
      "Epoch 66: Loss 65.79668426513672\n",
      "Epoch 67: Loss 64.22867584228516\n",
      "Epoch 68: Loss 62.721923828125\n",
      "Epoch 69: Loss 61.27396774291992\n",
      "Epoch 70: Loss 59.882484436035156\n",
      "Epoch 71: Loss 58.54522705078125\n",
      "Epoch 72: Loss 57.260047912597656\n",
      "Epoch 73: Loss 56.02487564086914\n",
      "Epoch 74: Loss 54.837738037109375\n",
      "Epoch 75: Loss 53.69670486450195\n",
      "Epoch 76: Loss 52.599979400634766\n",
      "Epoch 77: Loss 51.545780181884766\n",
      "Epoch 78: Loss 50.53240203857422\n",
      "Epoch 79: Loss 49.55828094482422\n",
      "Epoch 80: Loss 48.621795654296875\n",
      "Epoch 81: Loss 47.72150802612305\n",
      "Epoch 82: Loss 46.8559455871582\n",
      "Epoch 83: Loss 46.023780822753906\n",
      "Epoch 84: Loss 45.22364807128906\n",
      "Epoch 85: Loss 44.454288482666016\n",
      "Epoch 86: Loss 43.714500427246094\n",
      "Epoch 87: Loss 43.00311279296875\n",
      "Epoch 88: Loss 42.31898880004883\n",
      "Epoch 89: Loss 41.66106414794922\n",
      "Epoch 90: Loss 41.02831268310547\n",
      "Epoch 91: Loss 40.419715881347656\n",
      "Epoch 92: Loss 39.834320068359375\n",
      "Epoch 93: Loss 39.271236419677734\n",
      "Epoch 94: Loss 38.72956848144531\n",
      "Epoch 95: Loss 38.208465576171875\n",
      "Epoch 96: Loss 37.707130432128906\n",
      "Epoch 97: Loss 37.22478103637695\n",
      "Epoch 98: Loss 36.760650634765625\n",
      "Epoch 99: Loss 36.31407165527344\n"
     ]
    }
   ],
   "source": [
    "init_op=tf.global_variables_initializer()\n",
    "total=[]\n",
    "\n",
    "with tf.Session() as sess:\n",
    "    sess.run(init_op)\n",
    "    writer=tf.summary.FileWriter(\"../data/multiple-linear-regression\",sess.graph)\n",
    "    for i in range(100):\n",
    "        _,loss_tmp=sess.run([optimizer,loss],feed_dict={X:X_train,Y:Y_train})\n",
    "        total.append(loss_tmp)\n",
    "        print(\"Epoch {0}: Loss {1}\".format(i,loss_tmp))\n",
    "    writer.close()\n",
    "    w_value=sess.run(w)"
   ]
  },
  {
   "cell_type": "code",
   "execution_count": 15,
   "metadata": {},
   "outputs": [
    {
     "data": {
      "text/plain": [
       "[<matplotlib.lines.Line2D at 0x7fc146b50b50>]"
      ]
     },
     "execution_count": 15,
     "metadata": {},
     "output_type": "execute_result"
    },
    {
     "data": {
      "image/png": "[encoded data removed]",
      "text/plain": [
       "<Figure size 432x288 with 1 Axes>"
      ]
     },
     "metadata": {
      "needs_background": "light"
     },
     "output_type": "display_data"
    }
   ],
   "source": [
    "plt.plot(total)"
   ]
  },
  {
   "cell_type": "code",
   "execution_count": 23,
   "metadata": {},
   "outputs": [
    {
     "name": "stdout",
     "output_type": "stream",
     "text": [
      "float64\n"
     ]
    }
   ],
   "source": [
    "print(w_value.astype(float).dtype)"
   ]
  }
 ],
 "metadata": {
  "kernelspec": {
   "display_name": "Python 3",
   "language": "python",
   "name": "python3"
  },
  "language_info": {
   "codemirror_mode": {
    "name": "ipython",
    "version": 3
   },
   "file_extension": ".py",
   "mimetype": "text/x-python",
   "name": "python",
   "nbconvert_exporter": "python",
   "pygments_lexer": "ipython3",
   "version": "3.7.4"
  },
  "toc": {
   "base_numbering": 1,
   "nav_menu": {},
   "number_sections": true,
   "sideBar": true,
   "skip_h1_title": false,
   "title_cell": "Table of Contents",
   "title_sidebar": "Contents",
   "toc_cell": false,
   "toc_position": {},
   "toc_section_display": true,
   "toc_window_display": false
  }
 },
 "nbformat": 4,
 "nbformat_minor": 4
}
