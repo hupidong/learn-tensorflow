{
 "cells": [
  {
   "cell_type": "code",
   "execution_count": 3,
   "metadata": {},
   "outputs": [],
   "source": [
    "import tensorflow as tf\n",
    "import numpy as np\n",
    "import matplotlib.pyplot as plt"
   ]
  },
  {
   "cell_type": "code",
   "execution_count": 4,
   "metadata": {},
   "outputs": [],
   "source": [
    "def normalize(X,axis=0):\n",
    "    mean=np.mean(X,axis=axis,keepdims=True)\n",
    "    std=np.std(X,axis=axis,keepdims=True)\n",
    "    X=(X-mean)/std\n",
    "    return X"
   ]
  },
  {
   "cell_type": "code",
   "execution_count": 5,
   "metadata": {},
   "outputs": [],
   "source": [
    "def append_bias_reshape(features,labels):\n",
    "    m=features.shape[0]\n",
    "    n=features.shape[1]\n",
    "    x=np.reshape(np.c_[np.ones(m),features],[m,n+1])\n",
    "    y=np.reshape(labels,[m,1])\n",
    "    return x,y"
   ]
  },
  {
   "cell_type": "code",
   "execution_count": 6,
   "metadata": {},
   "outputs": [
    {
     "name": "stderr",
     "output_type": "stream",
     "text": [
      "WARNING:tensorflow:From <ipython-input-6-87fdb0e93fcd>:2: load_dataset (from tensorflow.contrib.learn.python.learn.datasets) is deprecated and will be removed in a future version.\n",
      "Instructions for updating:\n",
      "Please use tf.data.\n",
      "WARNING:tensorflow:From D:\\Programs\\Anaconda3\\envs\\tf2.1\\lib\\site-packages\\tensorflow_core\\contrib\\learn\\python\\learn\\datasets\\__init__.py:80: load_boston (from tensorflow.contrib.learn.python.learn.datasets.base) is deprecated and will be removed in a future version.\n",
      "Instructions for updating:\n",
      "Use scikits.learn.datasets.\n",
      "WARNING:tensorflow:From D:\\Programs\\Anaconda3\\envs\\tf2.1\\lib\\site-packages\\tensorflow_core\\contrib\\learn\\python\\learn\\datasets\\base.py:129: load_csv_with_header (from tensorflow.contrib.learn.python.learn.datasets.base) is deprecated and will be removed in a future version.\n",
      "Instructions for updating:\n",
      "Use tf.data instead.\n"
     ]
    }
   ],
   "source": [
    "#Data\n",
    "boston=tf.contrib.learn.datasets.load_dataset(\"boston\")\n",
    "X_train,Y_train=boston.data, boston.target\n",
    "X_train=normalize(X=X_train)\n",
    "X_train,Y_train=append_bias_reshape(X_train,Y_train)\n",
    "m=len(X_train)\n",
    "n=13+1  # features + bias\n"
   ]
  },
  {
   "cell_type": "code",
   "execution_count": 7,
   "metadata": {},
   "outputs": [],
   "source": [
    "# 数据占位符\n",
    "X=tf.placeholder(tf.float32,name=\"X\", shape=[m,n])\n",
    "Y=tf.placeholder(tf.float32,name=\"Y\", shape=[m,1])"
   ]
  },
  {
   "cell_type": "code",
   "execution_count": 8,
   "metadata": {},
   "outputs": [],
   "source": [
    "#权重变量\n",
    "w=tf.Variable(tf.random_normal([n,1]))"
   ]
  },
  {
   "cell_type": "code",
   "execution_count": 9,
   "metadata": {},
   "outputs": [],
   "source": [
    "# 模型\n",
    "Y_hat=tf.matmul(X,w)"
   ]
  },
  {
   "cell_type": "code",
   "execution_count": 10,
   "metadata": {},
   "outputs": [],
   "source": [
    "#损失函数\n",
    "loss=tf.reduce_mean(tf.square(Y-Y_hat),name=\"loss\")"
   ]
  },
  {
   "cell_type": "code",
   "execution_count": 11,
   "metadata": {},
   "outputs": [],
   "source": [
    "#选择优化器\n",
    "optimizer=tf.train.GradientDescentOptimizer(learning_rate=0.01).minimize(loss)"
   ]
  },
  {
   "cell_type": "code",
   "execution_count": 14,
   "metadata": {},
   "outputs": [
    {
     "name": "stdout",
     "output_type": "stream",
     "text": [
      "Epoch 0: Loss 651.6405639648438\n",
      "Epoch 1: Loss 618.9212036132812\n",
      "Epoch 2: Loss 589.2194213867188\n",
      "Epoch 3: Loss 562.025390625\n",
      "Epoch 4: Loss 536.9384765625\n",
      "Epoch 5: Loss 513.6434326171875\n",
      "Epoch 6: Loss 491.8901062011719\n",
      "Epoch 7: Loss 471.4793701171875\n",
      "Epoch 8: Loss 452.25140380859375\n",
      "Epoch 9: Loss 434.07720947265625\n",
      "Epoch 10: Loss 416.8511657714844\n",
      "Epoch 11: Loss 400.4866943359375\n",
      "Epoch 12: Loss 384.9115295410156\n",
      "Epoch 13: Loss 370.0649719238281\n",
      "Epoch 14: Loss 355.89520263671875\n",
      "Epoch 15: Loss 342.3575744628906\n",
      "Epoch 16: Loss 329.4132995605469\n",
      "Epoch 17: Loss 317.02789306640625\n",
      "Epoch 18: Loss 305.1709289550781\n",
      "Epoch 19: Loss 293.8147277832031\n",
      "Epoch 20: Loss 282.9342041015625\n",
      "Epoch 21: Loss 272.50634765625\n",
      "Epoch 22: Loss 262.5099792480469\n",
      "Epoch 23: Loss 252.92526245117188\n",
      "Epoch 24: Loss 243.73382568359375\n",
      "Epoch 25: Loss 234.91827392578125\n",
      "Epoch 26: Loss 226.46237182617188\n",
      "Epoch 27: Loss 218.35060119628906\n",
      "Epoch 28: Loss 210.5684356689453\n",
      "Epoch 29: Loss 203.1018829345703\n",
      "Epoch 30: Loss 195.93780517578125\n",
      "Epoch 31: Loss 189.06358337402344\n",
      "Epoch 32: Loss 182.46714782714844\n",
      "Epoch 33: Loss 176.13711547851562\n",
      "Epoch 34: Loss 170.0624542236328\n",
      "Epoch 35: Loss 164.2327117919922\n",
      "Epoch 36: Loss 158.6378173828125\n",
      "Epoch 37: Loss 153.26815795898438\n",
      "Epoch 38: Loss 148.11451721191406\n",
      "Epoch 39: Loss 143.16815185546875\n",
      "Epoch 40: Loss 138.42056274414062\n",
      "Epoch 41: Loss 133.8636474609375\n",
      "Epoch 42: Loss 129.48971557617188\n",
      "Epoch 43: Loss 125.2912368774414\n",
      "Epoch 44: Loss 121.26115417480469\n",
      "Epoch 45: Loss 117.392578125\n",
      "Epoch 46: Loss 113.67902374267578\n",
      "Epoch 47: Loss 110.11415100097656\n",
      "Epoch 48: Loss 106.69195556640625\n",
      "Epoch 49: Loss 103.40665435791016\n",
      "Epoch 50: Loss 100.25270080566406\n",
      "Epoch 51: Loss 97.22478485107422\n",
      "Epoch 52: Loss 94.31780242919922\n",
      "Epoch 53: Loss 91.52690887451172\n",
      "Epoch 54: Loss 88.84735107421875\n",
      "Epoch 55: Loss 86.27464294433594\n",
      "Epoch 56: Loss 83.80449676513672\n",
      "Epoch 57: Loss 81.4327621459961\n",
      "Epoch 58: Loss 79.15544891357422\n",
      "Epoch 59: Loss 76.96878051757812\n",
      "Epoch 60: Loss 74.86907196044922\n",
      "Epoch 61: Loss 72.85282135009766\n",
      "Epoch 62: Loss 70.91669464111328\n",
      "Epoch 63: Loss 69.05745697021484\n",
      "Epoch 64: Loss 67.2719955444336\n",
      "Epoch 65: Loss 65.55734252929688\n",
      "Epoch 66: Loss 63.910648345947266\n",
      "Epoch 67: Loss 62.329193115234375\n",
      "Epoch 68: Loss 60.810359954833984\n",
      "Epoch 69: Loss 59.35159683227539\n",
      "Epoch 70: Loss 57.95054626464844\n",
      "Epoch 71: Loss 56.604854583740234\n",
      "Epoch 72: Loss 55.312286376953125\n",
      "Epoch 73: Loss 54.07073211669922\n",
      "Epoch 74: Loss 52.87815856933594\n",
      "Epoch 75: Loss 51.7325553894043\n",
      "Epoch 76: Loss 50.63208770751953\n",
      "Epoch 77: Loss 49.57494354248047\n",
      "Epoch 78: Loss 48.55934524536133\n",
      "Epoch 79: Loss 47.583683013916016\n",
      "Epoch 80: Loss 46.646305084228516\n",
      "Epoch 81: Loss 45.745723724365234\n",
      "Epoch 82: Loss 44.88043975830078\n",
      "Epoch 83: Loss 44.04906463623047\n",
      "Epoch 84: Loss 43.25020980834961\n",
      "Epoch 85: Loss 42.48262023925781\n",
      "Epoch 86: Loss 41.74502182006836\n",
      "Epoch 87: Loss 41.03620910644531\n",
      "Epoch 88: Loss 40.35504913330078\n",
      "Epoch 89: Loss 39.70045471191406\n",
      "Epoch 90: Loss 39.071311950683594\n",
      "Epoch 91: Loss 38.46666717529297\n",
      "Epoch 92: Loss 37.8855094909668\n",
      "Epoch 93: Loss 37.32691192626953\n",
      "Epoch 94: Loss 36.789981842041016\n",
      "Epoch 95: Loss 36.27384567260742\n",
      "Epoch 96: Loss 35.77768325805664\n",
      "Epoch 97: Loss 35.30070114135742\n",
      "Epoch 98: Loss 34.842132568359375\n",
      "Epoch 99: Loss 34.40125274658203\n"
     ]
    }
   ],
   "source": [
    "init_op=tf.global_variables_initializer()\n",
    "total=[]\n",
    "\n",
    "with tf.Session() as sess:\n",
    "    sess.run(init_op)\n",
    "    writer=tf.summary.FileWriter(\"../data/multiple-linear-regression\",sess.graph)\n",
    "    for i in range(100):\n",
    "        _,loss_tmp=sess.run([optimizer,loss],feed_dict={X:X_train,Y:Y_train})\n",
    "        total.append(loss_tmp)\n",
    "        print(\"Epoch {0}: Loss {1}\".format(i,loss_tmp))\n",
    "    writer.close()\n",
    "    w_value=sess.run(w)"
   ]
  },
  {
   "cell_type": "code",
   "execution_count": 15,
   "metadata": {},
   "outputs": [
    {
     "data": {
      "text/plain": [
       "[<matplotlib.lines.Line2D at 0x2031cbc8>]"
      ]
     },
     "execution_count": 15,
     "metadata": {},
     "output_type": "execute_result"
    },
    {
     "data": {
      "image/png": "[encoded data removed]",
      "text/plain": [
       "<Figure size 432x288 with 1 Axes>"
      ]
     },
     "metadata": {
      "needs_background": "light"
     },
     "output_type": "display_data"
    }
   ],
   "source": [
    "plt.plot(total)"
   ]
  },
  {
   "cell_type": "code",
   "execution_count": null,
   "metadata": {},
   "outputs": [],
   "source": []
  }
 ],
 "metadata": {
  "kernelspec": {
   "display_name": "Python 3",
   "language": "python",
   "name": "python3"
  },
  "language_info": {
   "codemirror_mode": {
    "name": "ipython",
    "version": 3
   },
   "file_extension": ".py",
   "mimetype": "text/x-python",
   "name": "python",
   "nbconvert_exporter": "python",
   "pygments_lexer": "ipython3",
   "version": "3.7.6"
  }
 },
 "nbformat": 4,
 "nbformat_minor": 4
}
