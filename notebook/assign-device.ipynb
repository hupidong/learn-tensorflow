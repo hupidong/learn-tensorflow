{
 "cells": [
  {
   "cell_type": "code",
   "execution_count": 1,
   "metadata": {},
   "outputs": [],
   "source": [
    "import tensorflow as tf"
   ]
  },
  {
   "cell_type": "code",
   "execution_count": 3,
   "metadata": {},
   "outputs": [
    {
     "name": "stdout",
     "output_type": "stream",
     "text": [
      "Device mapping:\n",
      "\n",
      "[[1405.2432 1441.7412 1364.38   ... 1480.2251 1279.0063 1620.0938]\n",
      " [1232.6589 1344.4458 1169.7092 ... 1205.1285 1040.5566 1421.967 ]\n",
      " [1209.3167 1180.3208 1158.1396 ... 1200.0343 1014.0322 1222.5107]\n",
      " ...\n",
      " [1298.9648 1262.9236 1205.6917 ... 1396.4789 1090.7252 1437.2411]\n",
      " [1118.2473 1209.0151 1077.7229 ... 1180.7024 1076.4695 1139.742 ]\n",
      " [1200.8866 1297.2267 1260.0101 ... 1289.4297 1165.2446 1433.4183]]\n"
     ]
    }
   ],
   "source": [
    "# log_device_placement=True, 可以打印使用的设备信息\n",
    "# allow_soft_placement=True, 当指定的设备不可用时，允许tf选择现有和受支持的设备\n",
    "config=tf.ConfigProto(log_device_placement=True, allow_soft_placement=True)\n",
    "\n",
    "with tf.device(\"/cpu:0\"):\n",
    "    rand_t=tf.random_uniform([50,50],0,10,dtype=tf.float32, seed=0)\n",
    "    a=tf.Variable(rand_t)\n",
    "    b=tf.Variable(rand_t)\n",
    "    c=tf.matmul(a, b)\n",
    "    init=tf.global_variables_initializer()\n",
    "    \n",
    "with tf.Session(config=config) as sess:\n",
    "    sess.run(init)\n",
    "    print(sess.run(c))"
   ]
  },
  {
   "cell_type": "code",
   "execution_count": 4,
   "metadata": {},
   "outputs": [
    {
     "name": "stdout",
     "output_type": "stream",
     "text": [
      "Device mapping:\n",
      "\n",
      "[array([[1405.2432, 1441.7412, 1364.38  , ..., 1480.2251, 1279.0063,\n",
      "        1620.0938],\n",
      "       [1232.6589, 1344.4458, 1169.7092, ..., 1205.1285, 1040.5566,\n",
      "        1421.967 ],\n",
      "       [1209.3167, 1180.3208, 1158.1396, ..., 1200.0343, 1014.0322,\n",
      "        1222.5107],\n",
      "       ...,\n",
      "       [1298.9648, 1262.9236, 1205.6917, ..., 1396.4789, 1090.7252,\n",
      "        1437.2411],\n",
      "       [1118.2473, 1209.0151, 1077.7229, ..., 1180.7024, 1076.4695,\n",
      "        1139.742 ],\n",
      "       [1200.8866, 1297.2267, 1260.0101, ..., 1289.4297, 1165.2446,\n",
      "        1433.4183]], dtype=float32), array([[1405.2432, 1441.7412, 1364.38  , ..., 1480.2251, 1279.0063,\n",
      "        1620.0938],\n",
      "       [1232.6589, 1344.4458, 1169.7092, ..., 1205.1285, 1040.5566,\n",
      "        1421.967 ],\n",
      "       [1209.3167, 1180.3208, 1158.1396, ..., 1200.0343, 1014.0322,\n",
      "        1222.5107],\n",
      "       ...,\n",
      "       [1298.9648, 1262.9236, 1205.6917, ..., 1396.4789, 1090.7252,\n",
      "        1437.2411],\n",
      "       [1118.2473, 1209.0151, 1077.7229, ..., 1180.7024, 1076.4695,\n",
      "        1139.742 ],\n",
      "       [1200.8866, 1297.2267, 1260.0101, ..., 1289.4297, 1165.2446,\n",
      "        1433.4183]], dtype=float32)]\n"
     ]
    }
   ],
   "source": [
    "# 选择多个设备\n",
    "c=[]\n",
    "for d in [\"/cpu:0\",\"/cpu:1\"]:\n",
    "    with tf.device(d):\n",
    "        rand_t=tf.random_uniform([50,50],0,10,dtype=tf.float32, seed=0)\n",
    "        a=tf.Variable(rand_t)\n",
    "        b=tf.Variable(rand_t)\n",
    "        c.append(tf.matmul(a, b))\n",
    "        init=tf.global_variables_initializer()\n",
    "        \n",
    "with tf.Session(config=config) as sess:\n",
    "    sess.run(init)\n",
    "    print(sess.run(c))"
   ]
  },
  {
   "cell_type": "code",
   "execution_count": null,
   "metadata": {},
   "outputs": [],
   "source": []
  }
 ],
 "metadata": {
  "kernelspec": {
   "display_name": "Python 3",
   "language": "python",
   "name": "python3"
  },
  "language_info": {
   "codemirror_mode": {
    "name": "ipython",
    "version": 3
   },
   "file_extension": ".py",
   "mimetype": "text/x-python",
   "name": "python",
   "nbconvert_exporter": "python",
   "pygments_lexer": "ipython3",
   "version": "3.7.6"
  }
 },
 "nbformat": 4,
 "nbformat_minor": 4
}
